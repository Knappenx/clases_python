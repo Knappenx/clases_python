{
 "cells": [
  {
   "attachments": {},
   "cell_type": "markdown",
   "metadata": {},
   "source": [
    "# Ciclos While \n",
    "\n",
    "Estos ciclos corren de manera indefinida hasta que se cumpla una condicion."
   ]
  },
  {
   "cell_type": "code",
   "execution_count": 1,
   "metadata": {},
   "outputs": [
    {
     "name": "stdout",
     "output_type": "stream",
     "text": [
      "Siguiendo con ejecucion\n",
      "Siguiendo con ejecucion\n",
      "Siguiendo con ejecucion\n",
      "Siguiendo con ejecucion\n",
      "Escribe bien\n",
      "Saliendo de la app\n"
     ]
    }
   ],
   "source": [
    "exit_app = False\n",
    "\n",
    "while exit_app == False:\n",
    "    question = input(\"Desea salir de la app? S/N >: \")\n",
    "    question = question.capitalize()\n",
    "    if question == \"N\":\n",
    "        print(\"Siguiendo con ejecucion\")\n",
    "    elif question == \"S\":\n",
    "        print(\"Saliendo de la app\")\n",
    "        exit_app = True\n",
    "    else:\n",
    "        print(\"Escribe bien\")\n"
   ]
  },
  {
   "cell_type": "code",
   "execution_count": null,
   "metadata": {},
   "outputs": [],
   "source": [
    "while True:\n",
    "    print(\"Corriendo indefinidamente\")"
   ]
  },
  {
   "cell_type": "code",
   "execution_count": null,
   "metadata": {},
   "outputs": [],
   "source": [
    "import time\n",
    "\n",
    "count = 0\n",
    "while True:\n",
    "    count += 1\n",
    "    print(count)\n",
    "    time.sleep(0.01)\n",
    "\n"
   ]
  }
 ],
 "metadata": {
  "kernelspec": {
   "display_name": "Python 3",
   "language": "python",
   "name": "python3"
  },
  "language_info": {
   "codemirror_mode": {
    "name": "ipython",
    "version": 3
   },
   "file_extension": ".py",
   "mimetype": "text/x-python",
   "name": "python",
   "nbconvert_exporter": "python",
   "pygments_lexer": "ipython3",
   "version": "3.11.2"
  },
  "orig_nbformat": 4
 },
 "nbformat": 4,
 "nbformat_minor": 2
}
