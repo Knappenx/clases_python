{
 "cells": [
  {
   "attachments": {},
   "cell_type": "markdown",
   "metadata": {},
   "source": [
    "# Colecciones 1.0\n",
    "\n",
    "Existen diferentes tipos de colecciones de datos, cada uno con su estructura, propiedades, ventajas y desventajas. Dentro de las más comunes en Python tenemos las siguientes:\n",
    "\n",
    "- Lista\n",
    "- Diccionario\n",
    "- Tupla\n",
    "- Set\n",
    "  \n",
    "## Lista\n",
    "\n",
    "La lista es una colección de datos con las siguientes características:\n",
    "\n",
    "- Es ordenana\n",
    "- Acepta cualquier tipo de dato\n",
    "- Es `mutable`, es decir se pueden modificar los datos\n",
    "  - Agregar datos\n",
    "  - Editar datos\n",
    "  - Eliminar datos"
   ]
  },
  {
   "cell_type": "code",
   "execution_count": 1,
   "metadata": {},
   "outputs": [
    {
     "name": "stdout",
     "output_type": "stream",
     "text": [
      "['Neo', 33, True, ['Hombre', 'Matrix', 'Artes Marciales']]\n",
      "<class 'list'>\n",
      "[]\n"
     ]
    }
   ],
   "source": [
    "# Inicializamos una lista vacia\n",
    "\n",
    "lista_vacia = []\n",
    "\n",
    "# Inicializamos una lista con datos\n",
    "\n",
    "lista_datos = [\"Neo\", 33, True, [\"Hombre\", \"Matrix\", \"Artes Marciales\"]]\n",
    "\n",
    "print(lista_datos)\n",
    "print(type(lista_datos))\n",
    "print(lista_vacia)"
   ]
  },
  {
   "attachments": {},
   "cell_type": "markdown",
   "metadata": {},
   "source": [
    "Las listas son colecciones indexadas, es decir que cada dato guardado dentro de ella tiene un índice numérico con el cual lo podemos revisar. Los índices dentro de una lista inician en `0` con tamaño total de `n-1`. Por ejemplo una lista con 4 elementos como lo es `lista_datos` tiene índices del 0 al 3."
   ]
  },
  {
   "cell_type": "code",
   "execution_count": 2,
   "metadata": {},
   "outputs": [
    {
     "name": "stdout",
     "output_type": "stream",
     "text": [
      "Neo\n",
      "33\n",
      "True\n",
      "['Hombre', 'Matrix', 'Artes Marciales']\n"
     ]
    }
   ],
   "source": [
    "print(lista_datos[0])\n",
    "print(lista_datos[1])\n",
    "print(lista_datos[2])\n",
    "print(lista_datos[3])"
   ]
  },
  {
   "cell_type": "code",
   "execution_count": 3,
   "metadata": {},
   "outputs": [
    {
     "ename": "IndexError",
     "evalue": "list index out of range",
     "output_type": "error",
     "traceback": [
      "\u001b[1;31m---------------------------------------------------------------------------\u001b[0m",
      "\u001b[1;31mIndexError\u001b[0m                                Traceback (most recent call last)",
      "\u001b[1;32m~\\AppData\\Local\\Temp/ipykernel_12532/2582595206.py\u001b[0m in \u001b[0;36m<module>\u001b[1;34m\u001b[0m\n\u001b[1;32m----> 1\u001b[1;33m \u001b[0mprint\u001b[0m\u001b[1;33m(\u001b[0m\u001b[0mlista_datos\u001b[0m\u001b[1;33m[\u001b[0m\u001b[1;36m4\u001b[0m\u001b[1;33m]\u001b[0m\u001b[1;33m)\u001b[0m\u001b[1;33m\u001b[0m\u001b[1;33m\u001b[0m\u001b[0m\n\u001b[0m",
      "\u001b[1;31mIndexError\u001b[0m: list index out of range"
     ]
    }
   ],
   "source": [
    "print(lista_datos[4])"
   ]
  },
  {
   "attachments": {},
   "cell_type": "markdown",
   "metadata": {},
   "source": [
    "A una lista como vimos anteriormente se le pueden agregar, editar o eliminar datos. Para esto vamos a utilizar los índices de esa misma lista y veremos un concepto nuevo llamado `métodos`."
   ]
  },
  {
   "cell_type": "code",
   "execution_count": 4,
   "metadata": {},
   "outputs": [
    {
     "name": "stdout",
     "output_type": "stream",
     "text": [
      "[]\n"
     ]
    }
   ],
   "source": [
    "nueva_lista = []\n",
    "print(nueva_lista)"
   ]
  },
  {
   "cell_type": "code",
   "execution_count": 5,
   "metadata": {},
   "outputs": [
    {
     "name": "stdout",
     "output_type": "stream",
     "text": [
      "['Trinity']\n"
     ]
    }
   ],
   "source": [
    "# Agregar datos\n",
    "\n",
    "nueva_lista.append(\"Trinity\")\n",
    "print(nueva_lista)"
   ]
  },
  {
   "cell_type": "code",
   "execution_count": 13,
   "metadata": {},
   "outputs": [
    {
     "name": "stdout",
     "output_type": "stream",
     "text": [
      "['Rat', 'Trinity', 'Neo', 33, True, ['Hombre', 'Matrix', 'Artes Marciales'], 'Morfeo', 'Morfeo']\n"
     ]
    }
   ],
   "source": [
    "nueva_lista.append(\"Morfeo\")\n",
    "print(nueva_lista)"
   ]
  },
  {
   "cell_type": "code",
   "execution_count": 7,
   "metadata": {},
   "outputs": [
    {
     "name": "stdout",
     "output_type": "stream",
     "text": [
      "['Mr Smith', 'Trinity', 'Morfeo']\n"
     ]
    }
   ],
   "source": [
    "nueva_lista.insert(0, \"Mr Smith\")\n",
    "print(nueva_lista)"
   ]
  },
  {
   "cell_type": "code",
   "execution_count": 8,
   "metadata": {},
   "outputs": [
    {
     "name": "stdout",
     "output_type": "stream",
     "text": [
      "['Mr Smith', 'Trinity', 'Morfeo', 'Neo', 33, True, ['Hombre', 'Matrix', 'Artes Marciales']]\n"
     ]
    }
   ],
   "source": [
    "nueva_lista.extend(lista_datos)\n",
    "print(nueva_lista)"
   ]
  },
  {
   "cell_type": "code",
   "execution_count": 9,
   "metadata": {},
   "outputs": [
    {
     "name": "stdout",
     "output_type": "stream",
     "text": [
      "Neo\n"
     ]
    }
   ],
   "source": [
    "# Seleccionar valor de una lista\n",
    "\n",
    "print(nueva_lista[3])"
   ]
  },
  {
   "cell_type": "code",
   "execution_count": 14,
   "metadata": {},
   "outputs": [
    {
     "name": "stdout",
     "output_type": "stream",
     "text": [
      "['Rat', 'Trinity', 'Neo', 33, True, ['Hombre', 'Matrix', 'Artes Marciales'], 'Morfeo', 'Morfeo']\n"
     ]
    }
   ],
   "source": [
    "# Editar datos\n",
    "\n",
    "nueva_lista[0] = \"Rat\"\n",
    "print(nueva_lista)"
   ]
  },
  {
   "cell_type": "code",
   "execution_count": 18,
   "metadata": {},
   "outputs": [
    {
     "name": "stdout",
     "output_type": "stream",
     "text": [
      "['Rat', 'Trinity', 'Neo', ['Hombre', 'Matrix', 'Artes Marciales'], 'Morfeo']\n"
     ]
    }
   ],
   "source": [
    "# Eliminar datos\n",
    "\n",
    "nueva_lista.remove(33)\n",
    "print(nueva_lista)"
   ]
  },
  {
   "cell_type": "code",
   "execution_count": 19,
   "metadata": {},
   "outputs": [],
   "source": [
    "nueva_lista.remove(\"Frodo\")"
   ]
  },
  {
   "cell_type": "code",
   "execution_count": 20,
   "metadata": {},
   "outputs": [
    {
     "data": {
      "text/plain": [
       "'Neo'"
      ]
     },
     "execution_count": 20,
     "metadata": {},
     "output_type": "execute_result"
    }
   ],
   "source": [
    "nueva_lista.pop(1)"
   ]
  },
  {
   "cell_type": "code",
   "execution_count": 22,
   "metadata": {},
   "outputs": [
    {
     "name": "stdout",
     "output_type": "stream",
     "text": [
      "[['Hombre', 'Matrix', 'Artes Marciales'], 'Trinity']\n"
     ]
    }
   ],
   "source": [
    "# Borrar valor de lista por numero de indice\n",
    "\n",
    "del nueva_lista[0]\n",
    "print(nueva_lista)"
   ]
  },
  {
   "attachments": {},
   "cell_type": "markdown",
   "metadata": {},
   "source": [
    "Hay otras operaciones con listas que podemos realizar gracias a los `métodos` que tiene."
   ]
  },
  {
   "cell_type": "code",
   "execution_count": 26,
   "metadata": {},
   "outputs": [],
   "source": [
    "productos = [\"Capuccino\", \"Irlandes\", \"Americano\", \"Latte\", \"Cold Brew\", \"Americano\"]"
   ]
  },
  {
   "cell_type": "code",
   "execution_count": 27,
   "metadata": {},
   "outputs": [
    {
     "name": "stdout",
     "output_type": "stream",
     "text": [
      "2\n"
     ]
    }
   ],
   "source": [
    "# Contar \"Iteraciones\"\n",
    "\n",
    "print(productos.count(\"Americano\"))"
   ]
  },
  {
   "cell_type": "code",
   "execution_count": 28,
   "metadata": {},
   "outputs": [
    {
     "name": "stdout",
     "output_type": "stream",
     "text": [
      "['Americano', 'Cold Brew', 'Latte', 'Americano', 'Irlandes', 'Capuccino']\n"
     ]
    }
   ],
   "source": [
    "# Organizar inversamente\n",
    "productos.reverse()\n",
    "print(productos)"
   ]
  },
  {
   "cell_type": "code",
   "execution_count": 29,
   "metadata": {},
   "outputs": [
    {
     "name": "stdout",
     "output_type": "stream",
     "text": [
      "['Americano', 'Americano', 'Capuccino', 'Cold Brew', 'Irlandes', 'Latte']\n"
     ]
    }
   ],
   "source": [
    "# Organizar alfabeticamente\n",
    "productos.sort()\n",
    "print(productos)"
   ]
  },
  {
   "cell_type": "code",
   "execution_count": 31,
   "metadata": {},
   "outputs": [
    {
     "name": "stdout",
     "output_type": "stream",
     "text": [
      "0\n"
     ]
    }
   ],
   "source": [
    "# Revisar un valor especifico\n",
    "print(productos.index(\"Americano\"))"
   ]
  },
  {
   "attachments": {},
   "cell_type": "markdown",
   "metadata": {},
   "source": [
    "La siguiente función es de Python, pero es muy utilizada en listas para saber con cuantos datos estaremos trabajando. La función `len()` nos permite conocer el tamaño de una lista."
   ]
  },
  {
   "cell_type": "code",
   "execution_count": 32,
   "metadata": {},
   "outputs": [
    {
     "name": "stdout",
     "output_type": "stream",
     "text": [
      "6\n"
     ]
    }
   ],
   "source": [
    "# Tamaño de una lista\n",
    "\n",
    "print(len(productos))"
   ]
  },
  {
   "cell_type": "code",
   "execution_count": 36,
   "metadata": {},
   "outputs": [
    {
     "name": "stdout",
     "output_type": "stream",
     "text": [
      "Irlandes\n"
     ]
    }
   ],
   "source": [
    "# Leer valores de atras para adelante\n",
    "\n",
    "print(productos[-2])"
   ]
  },
  {
   "attachments": {},
   "cell_type": "markdown",
   "metadata": {},
   "source": [
    "Un `string` tambien es una lista!"
   ]
  },
  {
   "cell_type": "code",
   "execution_count": 37,
   "metadata": {},
   "outputs": [
    {
     "name": "stdout",
     "output_type": "stream",
     "text": [
      "34\n"
     ]
    }
   ],
   "source": [
    "my_string = \"El liverpool le gano al united 7-0\"\n",
    "str_length = len(my_string)\n",
    "print(str_length)"
   ]
  },
  {
   "cell_type": "code",
   "execution_count": 38,
   "metadata": {},
   "outputs": [
    {
     "name": "stdout",
     "output_type": "stream",
     "text": [
      "i\n"
     ]
    }
   ],
   "source": [
    "print(my_string[4])"
   ]
  },
  {
   "cell_type": "code",
   "execution_count": 40,
   "metadata": {},
   "outputs": [
    {
     "name": "stdout",
     "output_type": "stream",
     "text": [
      "['El', 'liverpool', 'le', 'gano', 'al', 'united', '7-0']\n"
     ]
    }
   ],
   "source": [
    "my_string_list = my_string.split(\" \")\n",
    "print(my_string_list)"
   ]
  },
  {
   "cell_type": "code",
   "execution_count": 42,
   "metadata": {},
   "outputs": [],
   "source": [
    "new_data = input(\"Introduce varios numeros: \")\n",
    "new_list = new_data.split(\",\")"
   ]
  },
  {
   "cell_type": "code",
   "execution_count": 43,
   "metadata": {},
   "outputs": [
    {
     "name": "stdout",
     "output_type": "stream",
     "text": [
      "['4', '6', '64', '23', '253', '2', '465', '6', '56', '547', '67', '87', '687']\n"
     ]
    }
   ],
   "source": [
    "print(new_list)"
   ]
  }
 ],
 "metadata": {
  "kernelspec": {
   "display_name": "\"Python/Mu (mu_venv-38-20211108-193157)\"",
   "language": "python",
   "name": "mu_venv-38-20211108-193157"
  },
  "language_info": {
   "codemirror_mode": {
    "name": "ipython",
    "version": 3
   },
   "file_extension": ".py",
   "mimetype": "text/x-python",
   "name": "python",
   "nbconvert_exporter": "python",
   "pygments_lexer": "ipython3",
   "version": "3.8.5"
  },
  "orig_nbformat": 4,
  "vscode": {
   "interpreter": {
    "hash": "5779294b255e944f23d4c4cb90ad21e8828fe6e82af371af2cc7fb049de5d87f"
   }
  }
 },
 "nbformat": 4,
 "nbformat_minor": 2
}
