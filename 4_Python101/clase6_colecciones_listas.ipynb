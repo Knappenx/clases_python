{
 "cells": [
  {
   "attachments": {},
   "cell_type": "markdown",
   "metadata": {},
   "source": [
    "# Colecciones 1.0\n",
    "\n",
    "Existen diferentes tipos de colecciones de datos, cada uno con su estructura, propiedades, ventajas y desventajas. Dentro de las más comunes en Python tenemos las siguientes:\n",
    "\n",
    "- Lista\n",
    "- Diccionario\n",
    "- Tupla\n",
    "- Set\n",
    "  \n",
    "## Lista\n",
    "\n",
    "La lista es una colección de datos con las siguientes características:\n",
    "\n",
    "- Es ordenana\n",
    "- Acepta cualquier tipo de dato\n",
    "- Es `mutable`, es decir se pueden modificar los datos\n",
    "  - Agregar datos\n",
    "  - Editar datos\n",
    "  - Eliminar datos"
   ]
  },
  {
   "cell_type": "code",
   "execution_count": 12,
   "metadata": {},
   "outputs": [
    {
     "name": "stdout",
     "output_type": "stream",
     "text": [
      "['Neo', 33, True, ['Hombre', 'Matrix', 'Artes Marciales']]\n",
      "<class 'list'>\n",
      "[]\n"
     ]
    }
   ],
   "source": [
    "# Inicializamos una lista vacia\n",
    "\n",
    "lista_vacia = []\n",
    "\n",
    "# Inicializamos una lista con datos\n",
    "\n",
    "lista_datos = [\"Neo\", 33, True, [\"Hombre\", \"Matrix\", \"Artes Marciales\"]]\n",
    "\n",
    "print(lista_datos)\n",
    "print(type(lista_datos))\n",
    "print(lista_vacia)"
   ]
  },
  {
   "attachments": {},
   "cell_type": "markdown",
   "metadata": {},
   "source": [
    "Las listas son colecciones indexadas, es decir que cada dato guardado dentro de ella tiene un índice numérico con el cual lo podemos revisar. Los índices dentro de una lista inician en `0` con tamaño total de `n-1`. Por ejemplo una lista con 4 elementos como lo es `lista_datos` tiene índices del 0 al 3."
   ]
  },
  {
   "cell_type": "code",
   "execution_count": 13,
   "metadata": {},
   "outputs": [
    {
     "name": "stdout",
     "output_type": "stream",
     "text": [
      "Neo\n",
      "33\n",
      "True\n",
      "['Hombre', 'Matrix', 'Artes Marciales']\n"
     ]
    }
   ],
   "source": [
    "print(lista_datos[0])\n",
    "print(lista_datos[1])\n",
    "print(lista_datos[2])\n",
    "print(lista_datos[3])"
   ]
  },
  {
   "cell_type": "code",
   "execution_count": 14,
   "metadata": {},
   "outputs": [
    {
     "ename": "IndexError",
     "evalue": "list index out of range",
     "output_type": "error",
     "traceback": [
      "\u001b[1;31m---------------------------------------------------------------------------\u001b[0m",
      "\u001b[1;31mIndexError\u001b[0m                                Traceback (most recent call last)",
      "Cell \u001b[1;32mIn[14], line 1\u001b[0m\n\u001b[1;32m----> 1\u001b[0m \u001b[39mprint\u001b[39m(lista_datos[\u001b[39m4\u001b[39;49m])\n",
      "\u001b[1;31mIndexError\u001b[0m: list index out of range"
     ]
    }
   ],
   "source": [
    "print(lista_datos[4])"
   ]
  },
  {
   "attachments": {},
   "cell_type": "markdown",
   "metadata": {},
   "source": [
    "A una lista como vimos anteriormente se le pueden agregar, editar o eliminar datos. Para esto vamos a utilizar los índices de esa misma lista y veremos un concepto nuevo llamado `métodos`."
   ]
  },
  {
   "cell_type": "code",
   "execution_count": 15,
   "metadata": {},
   "outputs": [
    {
     "name": "stdout",
     "output_type": "stream",
     "text": [
      "[]\n"
     ]
    }
   ],
   "source": [
    "nueva_lista = []\n",
    "print(nueva_lista)"
   ]
  },
  {
   "cell_type": "code",
   "execution_count": 16,
   "metadata": {},
   "outputs": [
    {
     "ename": "SyntaxError",
     "evalue": "invalid syntax (3656051987.py, line 3)",
     "output_type": "error",
     "traceback": [
      "\u001b[1;36m  Cell \u001b[1;32mIn[16], line 3\u001b[1;36m\u001b[0m\n\u001b[1;33m    nueva_lista.\u001b[0m\n\u001b[1;37m                ^\u001b[0m\n\u001b[1;31mSyntaxError\u001b[0m\u001b[1;31m:\u001b[0m invalid syntax\n"
     ]
    }
   ],
   "source": [
    "# Metodos\n",
    "\n",
    "nueva_lista."
   ]
  },
  {
   "cell_type": "code",
   "execution_count": 17,
   "metadata": {},
   "outputs": [
    {
     "name": "stdout",
     "output_type": "stream",
     "text": [
      "['Trinity']\n"
     ]
    }
   ],
   "source": [
    "# Agregar datos\n",
    "\n",
    "nueva_lista.append(\"Trinity\")\n",
    "print(nueva_lista)"
   ]
  },
  {
   "cell_type": "code",
   "execution_count": 18,
   "metadata": {},
   "outputs": [
    {
     "name": "stdout",
     "output_type": "stream",
     "text": [
      "['Trinity', 'Morfeo']\n"
     ]
    }
   ],
   "source": [
    "nueva_lista.append(\"Morfeo\")\n",
    "print(nueva_lista)"
   ]
  },
  {
   "cell_type": "code",
   "execution_count": 19,
   "metadata": {},
   "outputs": [
    {
     "name": "stdout",
     "output_type": "stream",
     "text": [
      "['Mr Smith', 'Trinity', 'Morfeo']\n"
     ]
    }
   ],
   "source": [
    "nueva_lista.insert(0, \"Mr Smith\")\n",
    "print(nueva_lista)"
   ]
  },
  {
   "cell_type": "code",
   "execution_count": 20,
   "metadata": {},
   "outputs": [
    {
     "name": "stdout",
     "output_type": "stream",
     "text": [
      "['Mr Smith', 'Trinity', 'Morfeo', 'Neo', 33, True, ['Hombre', 'Matrix', 'Artes Marciales']]\n"
     ]
    }
   ],
   "source": [
    "nueva_lista.extend(lista_datos)\n",
    "print(nueva_lista)"
   ]
  },
  {
   "cell_type": "code",
   "execution_count": 21,
   "metadata": {},
   "outputs": [
    {
     "name": "stdout",
     "output_type": "stream",
     "text": [
      "Neo\n"
     ]
    }
   ],
   "source": [
    "# Seleccionar valor de una lista\n",
    "\n",
    "print(nueva_lista[3])"
   ]
  },
  {
   "cell_type": "code",
   "execution_count": 22,
   "metadata": {},
   "outputs": [
    {
     "name": "stdout",
     "output_type": "stream",
     "text": [
      "['Rat', 'Trinity', 'Morfeo', 'Neo', 33, True, ['Hombre', 'Matrix', 'Artes Marciales']]\n"
     ]
    }
   ],
   "source": [
    "# Editar datos por su numero de indice\n",
    "\n",
    "nueva_lista[0] = \"Rat\"\n",
    "print(nueva_lista)"
   ]
  },
  {
   "cell_type": "code",
   "execution_count": 23,
   "metadata": {},
   "outputs": [
    {
     "name": "stdout",
     "output_type": "stream",
     "text": [
      "['Rat', 'Trinity', 'Morfeo', 'Neo', True, ['Hombre', 'Matrix', 'Artes Marciales']]\n"
     ]
    }
   ],
   "source": [
    "# Eliminar datos\n",
    "\n",
    "nueva_lista.remove(33)\n",
    "print(nueva_lista)"
   ]
  },
  {
   "cell_type": "code",
   "execution_count": 24,
   "metadata": {},
   "outputs": [
    {
     "ename": "ValueError",
     "evalue": "list.remove(x): x not in list",
     "output_type": "error",
     "traceback": [
      "\u001b[1;31m---------------------------------------------------------------------------\u001b[0m",
      "\u001b[1;31mValueError\u001b[0m                                Traceback (most recent call last)",
      "Cell \u001b[1;32mIn[24], line 1\u001b[0m\n\u001b[1;32m----> 1\u001b[0m nueva_lista\u001b[39m.\u001b[39;49mremove(\u001b[39m\"\u001b[39;49m\u001b[39mFrodo\u001b[39;49m\u001b[39m\"\u001b[39;49m)\n",
      "\u001b[1;31mValueError\u001b[0m: list.remove(x): x not in list"
     ]
    }
   ],
   "source": [
    "nueva_lista.remove(\"Frodo\")"
   ]
  },
  {
   "cell_type": "code",
   "execution_count": 25,
   "metadata": {},
   "outputs": [
    {
     "data": {
      "text/plain": [
       "'Trinity'"
      ]
     },
     "execution_count": 25,
     "metadata": {},
     "output_type": "execute_result"
    }
   ],
   "source": [
    "nueva_lista.pop(1)"
   ]
  },
  {
   "cell_type": "code",
   "execution_count": 26,
   "metadata": {},
   "outputs": [
    {
     "name": "stdout",
     "output_type": "stream",
     "text": [
      "['Rat', 'Morfeo', 'Neo', True, ['Hombre', 'Matrix', 'Artes Marciales']]\n"
     ]
    }
   ],
   "source": [
    "print(nueva_lista)"
   ]
  },
  {
   "cell_type": "code",
   "execution_count": 27,
   "metadata": {},
   "outputs": [
    {
     "name": "stdout",
     "output_type": "stream",
     "text": [
      "['Morfeo', 'Neo', True, ['Hombre', 'Matrix', 'Artes Marciales']]\n"
     ]
    }
   ],
   "source": [
    "# Borrar valor de lista por numero de indice\n",
    "\n",
    "del nueva_lista[0]\n",
    "print(nueva_lista)"
   ]
  },
  {
   "attachments": {},
   "cell_type": "markdown",
   "metadata": {},
   "source": [
    "Hay otras operaciones con listas que podemos realizar gracias a los `métodos` que tiene."
   ]
  },
  {
   "cell_type": "code",
   "execution_count": 29,
   "metadata": {},
   "outputs": [],
   "source": [
    "productos = [\"Capuccino\", \"Irlandes\", \"Americano\", \"Latte\", \"Cold Brew\", \"Americano\"]"
   ]
  },
  {
   "cell_type": "code",
   "execution_count": 30,
   "metadata": {},
   "outputs": [
    {
     "name": "stdout",
     "output_type": "stream",
     "text": [
      "2\n"
     ]
    }
   ],
   "source": [
    "# Contar \"Iteraciones\"\n",
    "\n",
    "print(productos.count(\"Americano\"))"
   ]
  },
  {
   "cell_type": "code",
   "execution_count": 31,
   "metadata": {},
   "outputs": [
    {
     "name": "stdout",
     "output_type": "stream",
     "text": [
      "['Americano', 'Cold Brew', 'Latte', 'Americano', 'Irlandes', 'Capuccino']\n"
     ]
    }
   ],
   "source": [
    "# Organizar inversamente\n",
    "productos.reverse()\n",
    "print(productos)"
   ]
  },
  {
   "cell_type": "code",
   "execution_count": 34,
   "metadata": {},
   "outputs": [
    {
     "name": "stdout",
     "output_type": "stream",
     "text": [
      "['Americano', 'Americano', 'Capuccino', 'Cold Brew', 'Irlandes', 'Latte']\n"
     ]
    }
   ],
   "source": [
    "# Organizar alfabeticamente\n",
    "productos.sort()\n",
    "print(productos)"
   ]
  },
  {
   "cell_type": "code",
   "execution_count": 35,
   "metadata": {},
   "outputs": [
    {
     "name": "stdout",
     "output_type": "stream",
     "text": [
      "0\n"
     ]
    }
   ],
   "source": [
    "# Revisar un valor especifico\n",
    "print(productos.index(\"Americano\"))"
   ]
  },
  {
   "attachments": {},
   "cell_type": "markdown",
   "metadata": {},
   "source": [
    "La siguiente función es de Python, pero es muy utilizada en listas para saber con cuantos datos estaremos trabajando. La función `len()` nos permite conocer el tamaño de una lista."
   ]
  },
  {
   "cell_type": "code",
   "execution_count": 36,
   "metadata": {},
   "outputs": [
    {
     "name": "stdout",
     "output_type": "stream",
     "text": [
      "6\n"
     ]
    }
   ],
   "source": [
    "# Tamaño de una lista\n",
    "\n",
    "print(len(productos))"
   ]
  },
  {
   "cell_type": "code",
   "execution_count": 39,
   "metadata": {},
   "outputs": [
    {
     "name": "stdout",
     "output_type": "stream",
     "text": [
      "Irlandes\n"
     ]
    }
   ],
   "source": [
    "# Leer valores de atras para adelante\n",
    "\n",
    "print(productos[-2])"
   ]
  },
  {
   "cell_type": "code",
   "execution_count": 38,
   "metadata": {},
   "outputs": [
    {
     "name": "stdout",
     "output_type": "stream",
     "text": [
      "15\n"
     ]
    }
   ],
   "source": [
    "# len tambien sirve para strings\n",
    "\n",
    "print(len(\"Hola bienvenido\"))"
   ]
  },
  {
   "attachments": {},
   "cell_type": "markdown",
   "metadata": {},
   "source": [
    "Un `string` tambien es una lista! ... bueno casi"
   ]
  },
  {
   "cell_type": "code",
   "execution_count": 44,
   "metadata": {},
   "outputs": [
    {
     "name": "stdout",
     "output_type": "stream",
     "text": [
      "29\n"
     ]
    }
   ],
   "source": [
    "my_string = \"NOMBRE,EDAD,ANTIGUEDAD,PUESTO\"\n",
    "str_length = len(my_string)\n",
    "print(str_length)"
   ]
  },
  {
   "cell_type": "code",
   "execution_count": 45,
   "metadata": {},
   "outputs": [
    {
     "name": "stdout",
     "output_type": "stream",
     "text": [
      "R\n"
     ]
    }
   ],
   "source": [
    "print(my_string[4])"
   ]
  },
  {
   "cell_type": "code",
   "execution_count": 47,
   "metadata": {},
   "outputs": [
    {
     "name": "stdout",
     "output_type": "stream",
     "text": [
      "['NOMBRE', 'EDAD', 'ANTIGUEDAD', 'PUESTO']\n"
     ]
    }
   ],
   "source": [
    "my_string_list = my_string.split(\",\")\n",
    "print(my_string_list)"
   ]
  },
  {
   "cell_type": "code",
   "execution_count": 51,
   "metadata": {},
   "outputs": [],
   "source": [
    "new_data = input(\"Introduce datos del usuario: \")\n",
    "new_list = new_data.split(\" \")"
   ]
  },
  {
   "cell_type": "code",
   "execution_count": 52,
   "metadata": {},
   "outputs": [
    {
     "name": "stdout",
     "output_type": "stream",
     "text": [
      "Juan Lopez 37 Ventas 8.5 True\n"
     ]
    }
   ],
   "source": [
    "print(new_data)"
   ]
  },
  {
   "cell_type": "code",
   "execution_count": 53,
   "metadata": {},
   "outputs": [
    {
     "name": "stdout",
     "output_type": "stream",
     "text": [
      "['Juan', 'Lopez', '37', 'Ventas', '8.5', 'True']\n"
     ]
    }
   ],
   "source": [
    "print(new_list)"
   ]
  }
 ],
 "metadata": {
  "kernelspec": {
   "display_name": "Python 3",
   "language": "python",
   "name": "python3"
  },
  "language_info": {
   "codemirror_mode": {
    "name": "ipython",
    "version": 3
   },
   "file_extension": ".py",
   "mimetype": "text/x-python",
   "name": "python",
   "nbconvert_exporter": "python",
   "pygments_lexer": "ipython3",
   "version": "3.11.2"
  },
  "orig_nbformat": 4
 },
 "nbformat": 4,
 "nbformat_minor": 2
}
