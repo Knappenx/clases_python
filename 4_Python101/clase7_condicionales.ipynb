{
 "cells": [
  {
   "attachments": {},
   "cell_type": "markdown",
   "metadata": {},
   "source": [
    "# Condicionales\n",
    "\n",
    "Las condicionales nos permiten ejecutar bloques de codigo si se cumplen las condiciones que definamos. Mientras que en otros lenguajes de programacion los bloques de condicionales de definen dentro de corchetes, en python usaremos identacion.\n",
    "\n",
    "Hay dos practicas comunes de identacion la primera es dejando 4 espacios y la otra es usando el tabulador con el mismo espaciado. Es importante mantener esta identacion para que python sepa que bloque de codigo ejecutara.\n",
    "\n",
    "Veamos un ejemplo de una condicional."
   ]
  },
  {
   "cell_type": "code",
   "execution_count": null,
   "metadata": {},
   "outputs": [],
   "source": [
    "player1 = \"Link\"\n",
    "player1_level = 30\n",
    "player1_race = \"Hylian\"\n",
    "player1_suscribed = False\n",
    "\n",
    "if player1_level > 10:\n",
    "    print(\"Tienes acceso a esta zona\")\n",
    "    \n",
    "print(player1)"
   ]
  },
  {
   "cell_type": "code",
   "execution_count": null,
   "metadata": {},
   "outputs": [],
   "source": [
    "player2 = \"Ganondorf\"\n",
    "player2_level = 55\n",
    "player2_race = \"Gerudo\"\n",
    "player2_suscribed = True\n",
    "\n",
    "if player2_suscribed:\n",
    "    print(\"Te quedan 20 dias de suscripcion\")\n"
   ]
  },
  {
   "attachments": {},
   "cell_type": "markdown",
   "metadata": {},
   "source": [
    "## IS vs =="
   ]
  },
  {
   "cell_type": "code",
   "execution_count": null,
   "metadata": {},
   "outputs": [],
   "source": [
    "if player1_suscribed is False:\n",
    "    print(\"No tienes membresia\")"
   ]
  },
  {
   "cell_type": "code",
   "execution_count": null,
   "metadata": {},
   "outputs": [],
   "source": [
    "num1 = 5\n",
    "num2 = 5.0\n",
    "\n",
    "if num1 == num2:\n",
    "    print(\"Son lo mismo\")"
   ]
  },
  {
   "cell_type": "code",
   "execution_count": null,
   "metadata": {},
   "outputs": [],
   "source": [
    "num1 = 5\n",
    "num2 = 5.0\n",
    "\n",
    "if num1 is num2:\n",
    "    print(\"Son lo mismo\")\n",
    "else:\n",
    "    print(\"No son lo mismo\")"
   ]
  },
  {
   "attachments": {},
   "cell_type": "markdown",
   "metadata": {},
   "source": [
    "## If else\n",
    "\n",
    "Nuestros bloques de condicionales nos permiten analizar una condicion y en caso de que esta no se cumpla podemos usar una condicion `else` que abarca todo lo que este fuera de la primera condicion no cumplida. Este no lleva como tal una condicion ya que abarca todo lo que no se cumpla anteriormente."
   ]
  },
  {
   "cell_type": "code",
   "execution_count": null,
   "metadata": {},
   "outputs": [],
   "source": [
    "\"\"\" If else:\n",
    "En este ejemplo tendremos un resultado de Mayor de edad siempre y cuando\n",
    "el numero proporcionado sea 18 o mayor y Menor de edad en caso de ser 17 \n",
    "o menor\n",
    "\"\"\"\n",
    "edad = 21\n",
    "\n",
    "if edad > 17:\n",
    "    print(\"Mayor de edad\")\n",
    "else:\n",
    "    print(\"Menor de edad\")\n"
   ]
  },
  {
   "attachments": {},
   "cell_type": "markdown",
   "metadata": {},
   "source": [
    "## If elif else\n",
    "\n",
    "Habra veces donde queremos analizar mas de una condicion, donde si la primera condicion no se cumple no se vaya directo a un else sino a otra condicion. Para esto utilizamos el condicional `elif`"
   ]
  },
  {
   "cell_type": "code",
   "execution_count": null,
   "metadata": {},
   "outputs": [],
   "source": [
    "# If elif else\n",
    "edad = 18\n",
    "if edad > 20:\n",
    "    print(\"Puedes tomar\")\n",
    "elif edad > 17:\n",
    "    print(\"Puedes comprar armas, pero no puedes tomar\")\n",
    "else:\n",
    "    print(\"Estas morro\")\n"
   ]
  },
  {
   "cell_type": "code",
   "execution_count": null,
   "metadata": {},
   "outputs": [],
   "source": [
    "edad = 21\n",
    "if edad > 20 and edad > 65:\n",
    "    print(\"Puede tomar y descuento inapam\")\n",
    "elif edad > 20:\n",
    "    print(\"Puedes tomar\")\n",
    "elif edad > 17:\n",
    "    print(\"Puedes comprar armas, pero no puedes tomar\")\n",
    "else:\n",
    "    print(\"Estas morro\")"
   ]
  },
  {
   "cell_type": "code",
   "execution_count": null,
   "metadata": {},
   "outputs": [],
   "source": [
    "edad = 75\n",
    "if edad > 20:\n",
    "    print(\"Puede tomar\")\n",
    "elif edad > 20 and edad > 65:\n",
    "    print(\"Puedes tomar y descuento inapam\")\n",
    "elif edad > 17:\n",
    "    print(\"Puedes comprar armas, pero no puedes tomar\")\n",
    "else:\n",
    "    print(\"Estas morro\")"
   ]
  },
  {
   "cell_type": "code",
   "execution_count": null,
   "metadata": {},
   "outputs": [],
   "source": [
    "edad = 75\n",
    "if edad > 20:\n",
    "    print(\"Puede tomar\")\n",
    "if edad > 20 and edad > 65:\n",
    "    print(\"Puedes tomar y descuento inapam\")\n",
    "if edad > 17:\n",
    "    print(\"Puedes comprar armas, pero no puedes tomar\")\n",
    "else:\n",
    "    print(\"Estas morro\")"
   ]
  },
  {
   "cell_type": "code",
   "execution_count": null,
   "metadata": {},
   "outputs": [],
   "source": [
    "edad = 75\n",
    "if 20 < edad > 65:\n",
    "    print(\"Puede tomar y descuento inapam\")\n",
    "elif edad > 20:\n",
    "    print(\"Puedes tomar\")\n",
    "elif edad > 17:\n",
    "    print(\"Puedes ir a la guerra pero no puedes tomar\")\n",
    "else:\n",
    "    print(\"Estas morro\")"
   ]
  },
  {
   "cell_type": "code",
   "execution_count": null,
   "metadata": {},
   "outputs": [],
   "source": [
    "# Problema Fizz buzz Tarea\n",
    "\n",
    "# Pedir al usuario un numero y comparar\n",
    "# Si numero es multiplo de 3 imprimir Fizz\n",
    "# Si numero es multiplo de 5 imprimir Buzz\n",
    "# Si numero es multiplo de 3 y de 5 imprimir FizzBuzz\n"
   ]
  },
  {
   "cell_type": "code",
   "execution_count": null,
   "metadata": {},
   "outputs": [],
   "source": [
    "numero = 10\n",
    "\n",
    "division = 10 % 3\n",
    "\n",
    "print(division)"
   ]
  },
  {
   "attachments": {},
   "cell_type": "markdown",
   "metadata": {},
   "source": [
    "## IF -> OR"
   ]
  },
  {
   "cell_type": "code",
   "execution_count": 1,
   "metadata": {},
   "outputs": [
    {
     "name": "stdout",
     "output_type": "stream",
     "text": [
      "You can edit this site\n"
     ]
    }
   ],
   "source": [
    "user_status = \"admin\"\n",
    "\n",
    "if user_status == \"admin\" or user_status == \"super_user\":\n",
    "    print(\"You can edit this site\")"
   ]
  },
  {
   "cell_type": "code",
   "execution_count": 2,
   "metadata": {},
   "outputs": [
    {
     "name": "stdout",
     "output_type": "stream",
     "text": [
      "You can edit this site\n"
     ]
    }
   ],
   "source": [
    "user_status = \"super_user\"\n",
    "\n",
    "if user_status == \"admin\" or user_status == \"super_user\":\n",
    "    print(\"You can edit this site\")"
   ]
  },
  {
   "cell_type": "code",
   "execution_count": 3,
   "metadata": {},
   "outputs": [],
   "source": [
    "user_status = \"simple\"\n",
    "\n",
    "if user_status == \"admin\" or user_status == \"super_user\":\n",
    "    print(\"You can edit this site\")"
   ]
  },
  {
   "attachments": {},
   "cell_type": "markdown",
   "metadata": {},
   "source": [
    "## IF -> AND"
   ]
  },
  {
   "cell_type": "code",
   "execution_count": 5,
   "metadata": {},
   "outputs": [
    {
     "name": "stdout",
     "output_type": "stream",
     "text": [
      "Usuario o password incorrectos\n"
     ]
    }
   ],
   "source": [
    "user_email = \"hello@gmail.com\"\n",
    "user_password = \"pass123\"\n",
    "\n",
    "if user_email == \"hello@gmail.com\" and user_password == \"pass123\":\n",
    "    print(\"Welcome\")\n",
    "else:\n",
    "    print(\"Usuario o password incorrectos\")"
   ]
  },
  {
   "attachments": {},
   "cell_type": "markdown",
   "metadata": {},
   "source": [
    "## IF -> NOT"
   ]
  },
  {
   "cell_type": "code",
   "execution_count": 6,
   "metadata": {},
   "outputs": [
    {
     "name": "stdout",
     "output_type": "stream",
     "text": [
      "Welcome Admin\n"
     ]
    }
   ],
   "source": [
    "is_admin = True\n",
    "\n",
    "if is_admin:\n",
    "    print(\"Welcome Admin\")"
   ]
  },
  {
   "cell_type": "code",
   "execution_count": 7,
   "metadata": {},
   "outputs": [],
   "source": [
    "is_admin = False\n",
    "\n",
    "if is_admin:\n",
    "    print(\"Welcome Admin\")"
   ]
  },
  {
   "cell_type": "code",
   "execution_count": 8,
   "metadata": {},
   "outputs": [
    {
     "name": "stdout",
     "output_type": "stream",
     "text": [
      "Welcome User\n"
     ]
    }
   ],
   "source": [
    "is_admin = False\n",
    "\n",
    "if not is_admin:\n",
    "    print(\"Welcome User\")"
   ]
  },
  {
   "attachments": {},
   "cell_type": "markdown",
   "metadata": {},
   "source": [
    "![image info](https://4.bp.blogspot.com/-gHaxjfVFAgM/UYx-m0IgJiI/AAAAAAAAATU/av3P37jQP0M/s1600/andornot.png)"
   ]
  },
  {
   "attachments": {},
   "cell_type": "markdown",
   "metadata": {},
   "source": [
    "## Buena practica If statements"
   ]
  },
  {
   "cell_type": "code",
   "execution_count": 19,
   "metadata": {},
   "outputs": [
    {
     "name": "stdout",
     "output_type": "stream",
     "text": [
      "This user is an admin\n",
      "make post\n",
      "make comment\n"
     ]
    }
   ],
   "source": [
    "is_admin = True\n",
    "\n",
    "if is_admin:\n",
    "    print(\"This user is an admin\")\n",
    "    print(\"make post\")\n",
    "    print(\"make comment\")\n",
    "elif not is_admin:\n",
    "    print(\"This user doesn't have priviledges\")\n",
    "    print(\"make comment\")\n",
    "\n"
   ]
  },
  {
   "cell_type": "code",
   "execution_count": 25,
   "metadata": {},
   "outputs": [
    {
     "name": "stdout",
     "output_type": "stream",
     "text": [
      "Tenemos datos\n"
     ]
    }
   ],
   "source": [
    "variable1 = 2\n",
    "\n",
    "#if True:\n",
    "if variable1:\n",
    "    print(\"Tenemos datos\")\n",
    "else:\n",
    "    print(\"Variable vacia\")"
   ]
  },
  {
   "cell_type": "code",
   "execution_count": 12,
   "metadata": {},
   "outputs": [
    {
     "name": "stdout",
     "output_type": "stream",
     "text": [
      "This user doesn't have priviledges\n",
      "make comment\n"
     ]
    }
   ],
   "source": [
    "is_admin = False\n",
    "\n",
    "if is_admin:\n",
    "    print(\"This user is an admin\")\n",
    "    print(\"make post\")\n",
    "elif not is_admin:\n",
    "    print(\"This user doesn't have priviledges\")\n",
    "print(\"make comment\")\n"
   ]
  },
  {
   "attachments": {},
   "cell_type": "markdown",
   "metadata": {},
   "source": [
    "## If item en la lista"
   ]
  },
  {
   "cell_type": "code",
   "execution_count": 15,
   "metadata": {},
   "outputs": [
    {
     "name": "stdout",
     "output_type": "stream",
     "text": [
      "Valor encontrado en lista\n"
     ]
    }
   ],
   "source": [
    "lista = [\"Mexico\", \"Colombia\"]\n",
    "\n",
    "if \"Mexico\" in lista:\n",
    "    print(\"Valor encontrado en lista\")"
   ]
  }
 ],
 "metadata": {
  "kernelspec": {
   "display_name": "Python 3",
   "language": "python",
   "name": "python3"
  },
  "language_info": {
   "codemirror_mode": {
    "name": "ipython",
    "version": 3
   },
   "file_extension": ".py",
   "mimetype": "text/x-python",
   "name": "python",
   "nbconvert_exporter": "python",
   "pygments_lexer": "ipython3",
   "version": "3.11.2"
  },
  "orig_nbformat": 4,
  "vscode": {
   "interpreter": {
    "hash": "5779294b255e944f23d4c4cb90ad21e8828fe6e82af371af2cc7fb049de5d87f"
   }
  }
 },
 "nbformat": 4,
 "nbformat_minor": 2
}
