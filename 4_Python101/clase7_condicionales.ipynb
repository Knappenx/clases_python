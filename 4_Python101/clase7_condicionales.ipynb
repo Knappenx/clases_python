{
 "cells": [
  {
   "attachments": {},
   "cell_type": "markdown",
   "metadata": {},
   "source": [
    "# Condicionales\n",
    "\n",
    "Las condicionales nos permiten ejecutar bloques de codigo si se cumplen las condiciones que definamos. Mientras que en otros lenguajes de programacion los bloques de condicionales de definen dentro de corchetes, en python usaremos identacion.\n",
    "\n",
    "Hay dos practicas comunes de identacion la primera es dejando 4 espacios y la otra es usando el tabulador con el mismo espaciado. Es importante mantener esta identacion para que python sepa que bloque de codigo ejecutara.\n",
    "\n",
    "Veamos un ejemplo de una condicional."
   ]
  },
  {
   "cell_type": "code",
   "execution_count": 7,
   "metadata": {},
   "outputs": [
    {
     "name": "stdout",
     "output_type": "stream",
     "text": [
      "Tienes acceso a esta zona\n"
     ]
    }
   ],
   "source": [
    "player1 = \"Link\"\n",
    "player1_level = 35\n",
    "player1_race = \"Hylian\"\n",
    "player1_suscribed = False\n",
    "\n",
    "if player1_level > 10:\n",
    "    print(\"Tienes acceso a esta zona\")"
   ]
  },
  {
   "cell_type": "code",
   "execution_count": 9,
   "metadata": {},
   "outputs": [],
   "source": [
    "player2 = \"Ganondorf\"\n",
    "player2_level = 55\n",
    "player2_race = \"Gerudo\"\n",
    "player2_suscribed = 1\n",
    "\n",
    "if player2_suscribed:\n",
    "    print(\"Te quedan 20 dias de suscripcion\")\n"
   ]
  },
  {
   "attachments": {},
   "cell_type": "markdown",
   "metadata": {},
   "source": [
    "## IS vs =="
   ]
  },
  {
   "cell_type": "code",
   "execution_count": 10,
   "metadata": {},
   "outputs": [
    {
     "name": "stdout",
     "output_type": "stream",
     "text": [
      "No tienes membresia\n"
     ]
    }
   ],
   "source": [
    "if player1_suscribed is False:\n",
    "    print(\"No tienes membresia\")"
   ]
  },
  {
   "cell_type": "code",
   "execution_count": 11,
   "metadata": {},
   "outputs": [
    {
     "name": "stdout",
     "output_type": "stream",
     "text": [
      "Son lo mismo\n"
     ]
    }
   ],
   "source": [
    "num1 = 5\n",
    "num2 = 5.0\n",
    "\n",
    "if num1 == num2:\n",
    "    print(\"Son lo mismo\")"
   ]
  },
  {
   "cell_type": "code",
   "execution_count": 14,
   "metadata": {},
   "outputs": [
    {
     "name": "stdout",
     "output_type": "stream",
     "text": [
      "No son lo mismo\n"
     ]
    }
   ],
   "source": [
    "num1 = 5\n",
    "num2 = 5.0\n",
    "\n",
    "if num1 is num2:\n",
    "    print(\"Son lo mismo\")\n",
    "else:\n",
    "    print(\"No son lo mismo\")"
   ]
  },
  {
   "attachments": {},
   "cell_type": "markdown",
   "metadata": {},
   "source": [
    "## If else\n",
    "\n",
    "Nuestros bloques de condicionales nos permiten analizar una condicion y en caso de que esta no se cumpla podemos usar una condicion `else` que abarca todo lo que este fuera de la primera condicion no cumplida. Este no lleva como tal una condicion ya que abarca todo lo que no se cumpla anteriormente."
   ]
  },
  {
   "cell_type": "code",
   "execution_count": 19,
   "metadata": {},
   "outputs": [
    {
     "name": "stdout",
     "output_type": "stream",
     "text": [
      "Mayor de edad\n"
     ]
    }
   ],
   "source": [
    "\"\"\" If else:\n",
    "En este ejemplo tendremos un resultado de Mayor de edad siempre y cuando\n",
    "el numero proporcionado sea 18 o mayor y Menor de edad en caso de ser 17 \n",
    "o menor\n",
    "\"\"\"\n",
    "edad = 21\n",
    "\n",
    "if edad > 17:\n",
    "    print(\"Mayor de edad\")\n",
    "else:\n",
    "    print(\"Menor de edad\")\n"
   ]
  },
  {
   "attachments": {},
   "cell_type": "markdown",
   "metadata": {},
   "source": [
    "## If elif else\n",
    "\n",
    "Habra veces donde queremos analizar mas de una condicion, donde si la primera condicion no se cumple no se vaya directo a un else sino a otra condicion. Para esto utilizamos el condicional `elif`"
   ]
  },
  {
   "cell_type": "code",
   "execution_count": 31,
   "metadata": {},
   "outputs": [
    {
     "name": "stdout",
     "output_type": "stream",
     "text": [
      "Puedes ir a la guerra pero no puedes tomar\n"
     ]
    }
   ],
   "source": [
    "# If elif else\n",
    "edad = 35\n",
    "\n",
    "if edad > 20:\n",
    "    print(\"Puedes tomar\")\n",
    "elif edad > 17:\n",
    "    print(\"Puedes ir a la guerra pero no puedes tomar\")\n",
    "else:\n",
    "    print(\"Estas morro\")\n"
   ]
  },
  {
   "cell_type": "code",
   "execution_count": 34,
   "metadata": {},
   "outputs": [
    {
     "name": "stdout",
     "output_type": "stream",
     "text": [
      "Puedes ir a la guerra pero no puedes tomar\n"
     ]
    }
   ],
   "source": [
    "edad = 18\n",
    "if edad > 20 and edad > 65:\n",
    "    print(\"Puede tomar y descuento inapam\")\n",
    "elif edad > 20:\n",
    "    print(\"Puedes tomar\")\n",
    "elif edad > 17:\n",
    "    print(\"Puedes ir a la guerra pero no puedes tomar\")\n",
    "else:\n",
    "    print(\"Estas morro\")"
   ]
  },
  {
   "cell_type": "code",
   "execution_count": 36,
   "metadata": {},
   "outputs": [
    {
     "name": "stdout",
     "output_type": "stream",
     "text": [
      "Puede tomar y descuento inapam\n"
     ]
    }
   ],
   "source": [
    "edad = 75\n",
    "if 20 < edad > 65:\n",
    "    print(\"Puede tomar y descuento inapam\")\n",
    "elif edad > 20:\n",
    "    print(\"Puedes tomar\")\n",
    "elif edad > 17:\n",
    "    print(\"Puedes ir a la guerra pero no puedes tomar\")\n",
    "else:\n",
    "    print(\"Estas morro\")"
   ]
  },
  {
   "cell_type": "code",
   "execution_count": null,
   "metadata": {},
   "outputs": [],
   "source": [
    "# Problema Fizz buzz Tarea\n"
   ]
  },
  {
   "attachments": {},
   "cell_type": "markdown",
   "metadata": {},
   "source": [
    "## IF -> OR"
   ]
  },
  {
   "cell_type": "code",
   "execution_count": 39,
   "metadata": {},
   "outputs": [
    {
     "name": "stdout",
     "output_type": "stream",
     "text": [
      "You can edit this site\n"
     ]
    }
   ],
   "source": [
    "user_status = \"admin\"\n",
    "\n",
    "if user_status == \"admin\" or user_status == \"super_user\":\n",
    "    print(\"You can edit this site\")"
   ]
  },
  {
   "cell_type": "code",
   "execution_count": 40,
   "metadata": {},
   "outputs": [
    {
     "name": "stdout",
     "output_type": "stream",
     "text": [
      "You can edit this site\n"
     ]
    }
   ],
   "source": [
    "user_status = \"super_user\"\n",
    "\n",
    "if user_status == \"admin\" or user_status == \"super_user\":\n",
    "    print(\"You can edit this site\")"
   ]
  },
  {
   "cell_type": "code",
   "execution_count": 41,
   "metadata": {},
   "outputs": [],
   "source": [
    "user_status = \"simple\"\n",
    "\n",
    "if user_status == \"admin\" or user_status == \"super_user\":\n",
    "    print(\"You can edit this site\")"
   ]
  },
  {
   "attachments": {},
   "cell_type": "markdown",
   "metadata": {},
   "source": [
    "## IF -> AND"
   ]
  },
  {
   "cell_type": "code",
   "execution_count": 42,
   "metadata": {},
   "outputs": [
    {
     "name": "stdout",
     "output_type": "stream",
     "text": [
      "Welcome\n"
     ]
    }
   ],
   "source": [
    "user_email = \"hello@gmail.com\"\n",
    "user_password = \"pass123\"\n",
    "\n",
    "if user_email == \"hello@gmail.com\" and user_password == \"pass123\":\n",
    "    print(\"Welcome\")"
   ]
  },
  {
   "attachments": {},
   "cell_type": "markdown",
   "metadata": {},
   "source": [
    "## IF -> NOT"
   ]
  },
  {
   "cell_type": "code",
   "execution_count": 43,
   "metadata": {},
   "outputs": [
    {
     "name": "stdout",
     "output_type": "stream",
     "text": [
      "Welcome Admin\n"
     ]
    }
   ],
   "source": [
    "is_admin = True\n",
    "\n",
    "if is_admin:\n",
    "    print(\"Welcome Admin\")"
   ]
  },
  {
   "cell_type": "code",
   "execution_count": 44,
   "metadata": {},
   "outputs": [],
   "source": [
    "is_admin = False\n",
    "\n",
    "if is_admin:\n",
    "    print(\"Welcome Admin\")"
   ]
  },
  {
   "cell_type": "code",
   "execution_count": 45,
   "metadata": {},
   "outputs": [
    {
     "name": "stdout",
     "output_type": "stream",
     "text": [
      "Welcome User\n"
     ]
    }
   ],
   "source": [
    "is_admin = False\n",
    "\n",
    "if not is_admin:\n",
    "    print(\"Welcome User\")"
   ]
  },
  {
   "attachments": {},
   "cell_type": "markdown",
   "metadata": {},
   "source": [
    "## Buena practica If statements"
   ]
  },
  {
   "cell_type": "code",
   "execution_count": 49,
   "metadata": {},
   "outputs": [
    {
     "name": "stdout",
     "output_type": "stream",
     "text": [
      "This user doesn't have priviledges\n",
      "make post\n"
     ]
    }
   ],
   "source": [
    "is_admin = False\n",
    "\n",
    "if is_admin:\n",
    "    print(\"This user is an admin\")\n",
    "    print(\"make post\")\n",
    "elif not is_admin:\n",
    "    print(\"This user doesn't have priviledges\")\n",
    "    print(\"make post\")\n",
    "\n"
   ]
  },
  {
   "cell_type": "code",
   "execution_count": 50,
   "metadata": {},
   "outputs": [
    {
     "name": "stdout",
     "output_type": "stream",
     "text": [
      "This user doesn't have priviledges\n",
      "make post\n"
     ]
    }
   ],
   "source": [
    "is_admin = False\n",
    "\n",
    "if is_admin:\n",
    "    print(\"This user is an admin\")\n",
    "elif not is_admin:\n",
    "    print(\"This user doesn't have priviledges\")\n",
    "print(\"make post\")\n"
   ]
  }
 ],
 "metadata": {
  "kernelspec": {
   "display_name": "Python 3",
   "language": "python",
   "name": "python3"
  },
  "language_info": {
   "codemirror_mode": {
    "name": "ipython",
    "version": 3
   },
   "file_extension": ".py",
   "mimetype": "text/x-python",
   "name": "python",
   "nbconvert_exporter": "python",
   "pygments_lexer": "ipython3",
   "version": "3.11.2"
  },
  "orig_nbformat": 4,
  "vscode": {
   "interpreter": {
    "hash": "5779294b255e944f23d4c4cb90ad21e8828fe6e82af371af2cc7fb049de5d87f"
   }
  }
 },
 "nbformat": 4,
 "nbformat_minor": 2
}
