{
 "cells": [
  {
   "cell_type": "code",
   "execution_count": 8,
   "metadata": {},
   "outputs": [
    {
     "name": "stdout",
     "output_type": "stream",
     "text": [
      "<class 'str'>\n",
      "{\"usuarios\": {\"jose@gmail.com\": {\"nombre\": \"Jose\", \"apellido\": \"Badillo\", \"edad\": 30, \"antiguedad\": 2.5, \"suscripcion\": false, \"carrito\": [\"Libro\", \"Microfono\", \"Tele\"]}, \"alex@gmail.com\": {\"nombre\": \"Alejandro\", \"apellido\": \"Pichardo\", \"edad\": 31, \"antiguedad\": 1, \"suscripcion\": true, \"carrito\": []}}, \"productos\": {\"Libro\": {\"vendedor\": \"Ghandi\", \"titulo\": \"El seor de los anilos\", \"precio\": 299.99}, \"Tele\": {\"vendedor\": \"Samsung\", \"modelo\": \"UD890909\", \"precio\": 10000}}}\n"
     ]
    }
   ],
   "source": [
    "import json\n",
    "\n",
    "main_dict = {\n",
    "    'usuarios': {\n",
    "        \"jose@gmail.com\":{\n",
    "            \"nombre\": \"Jose\",\n",
    "            \"apellido\": \"Badillo\",\n",
    "            \"edad\": 30,\n",
    "            \"antiguedad\": 2.5,\n",
    "            \"suscripcion\": False,\n",
    "            \"carrito\": [\"Libro\", \"Microfono\", \"Tele\"]\n",
    "        },\n",
    "        \"alex@gmail.com\":{\n",
    "            \"nombre\": \"Alejandro\",\n",
    "            \"apellido\": \"Pichardo\",\n",
    "            \"edad\": 31,\n",
    "            \"antiguedad\": 1,\n",
    "            \"suscripcion\": True,\n",
    "            \"carrito\": []\n",
    "        }\n",
    "    },\n",
    "    \"productos\": {\n",
    "        \"Libro\": {\n",
    "            \"vendedor\": \"Ghandi\",\n",
    "            \"titulo\": \"El seor de los anilos\",\n",
    "            \"precio\": 299.99\n",
    "        }, \n",
    "        \"Tele\":{\n",
    "            \"vendedor\": \"Samsung\",\n",
    "            \"modelo\": \"UD890909\",\n",
    "            \"precio\": 10000\n",
    "        }\n",
    "    }\n",
    "}\n",
    "\n",
    "json_object = json.dumps(main_dict)\n",
    "print(type(json_object))\n",
    "print(json_object)\n",
    "\n",
    "with open(\"./object.json\", \"w\") as my_json_file:\n",
    "    my_json_file.write(json_object)\n",
    "\n"
   ]
  },
  {
   "cell_type": "code",
   "execution_count": 7,
   "metadata": {},
   "outputs": [
    {
     "name": "stdout",
     "output_type": "stream",
     "text": [
      "{'usuarios': {'jose@gmail.com': {'nombre': 'Jose', 'apellido': 'Badillo', 'edad': 30, 'antiguedad': 2.5, 'suscripcion': False, 'carrito': ['Libro', 'Microfono', 'Tele']}, 'alex@gmail.com': {'nombre': 'Alejandro', 'apellido': 'Pichardo', 'edad': 31, 'antiguedad': 1, 'suscripcion': True, 'carrito': []}}, 'productos': {'Libro': {'vendedor': 'Ghandi', 'titulo': 'El seor de los anilos', 'precio': 299.99}, 'Tele': {'vendedor': 'Samsung', 'modelo': 'UD890909', 'precio': 10000}}}\n",
      "<class 'dict'>\n"
     ]
    }
   ],
   "source": [
    "with open('./object.json', 'r') as file:\n",
    "    contenido = file.read()\n",
    "    dictionary_object = json.loads(contenido)\n",
    "    print(dictionary_object)\n",
    "    print(type(dictionary_object))"
   ]
  }
 ],
 "metadata": {
  "kernelspec": {
   "display_name": "Python 3",
   "language": "python",
   "name": "python3"
  },
  "language_info": {
   "codemirror_mode": {
    "name": "ipython",
    "version": 3
   },
   "file_extension": ".py",
   "mimetype": "text/x-python",
   "name": "python",
   "nbconvert_exporter": "python",
   "pygments_lexer": "ipython3",
   "version": "3.11.2"
  },
  "orig_nbformat": 4
 },
 "nbformat": 4,
 "nbformat_minor": 2
}
