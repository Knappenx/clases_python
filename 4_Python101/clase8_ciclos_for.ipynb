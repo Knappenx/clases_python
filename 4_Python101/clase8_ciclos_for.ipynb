{
 "cells": [
  {
   "attachments": {},
   "cell_type": "markdown",
   "metadata": {},
   "source": [
    "# Ciclo For"
   ]
  },
  {
   "cell_type": "code",
   "execution_count": 14,
   "metadata": {},
   "outputs": [],
   "source": [
    "frutas = [\"manzana\", \"platano\", \"uvas\", \"fresa\", \"mango\", \"manzana\", \"platano\", \"uvas\", \"fresa\", \"mango\"]"
   ]
  },
  {
   "cell_type": "code",
   "execution_count": 1,
   "metadata": {},
   "outputs": [],
   "source": [
    "productos = [\"manzana\", \"platano\", \"uvas\", \"fresa\", \"mango\"]"
   ]
  },
  {
   "cell_type": "code",
   "execution_count": 2,
   "metadata": {},
   "outputs": [
    {
     "name": "stdout",
     "output_type": "stream",
     "text": [
      "manzana\n",
      "platano\n",
      "uvas\n",
      "fresa\n",
      "mango\n"
     ]
    }
   ],
   "source": [
    "print(productos[0])\n",
    "print(productos[1])\n",
    "print(productos[2])\n",
    "print(productos[3])\n",
    "print(productos[4])"
   ]
  },
  {
   "cell_type": "code",
   "execution_count": 7,
   "metadata": {},
   "outputs": [
    {
     "name": "stdout",
     "output_type": "stream",
     "text": [
      "manzana\n",
      "platano\n",
      "uvas\n",
      "fresa\n",
      "mango\n",
      "leche\n"
     ]
    }
   ],
   "source": [
    "# De producto en producto\n",
    "productos = [\"manzana\", \"platano\", \"uvas\", \"fresa\", \"mango\"]\n",
    "for producto in productos:\n",
    "    print(producto)"
   ]
  },
  {
   "cell_type": "code",
   "execution_count": 13,
   "metadata": {},
   "outputs": [
    {
     "name": "stdout",
     "output_type": "stream",
     "text": [
      "manzana\n",
      "platano\n",
      "uvas\n",
      "3\n"
     ]
    }
   ],
   "source": [
    "# Dentro de un rango\n",
    "productos = [\"manzana\", \"platano\", \"uvas\", \"fresa\", \"mango\"]\n",
    "counter = 0\n",
    "for num in range(0,3):\n",
    "    print(productos[num])\n"
   ]
  },
  {
   "cell_type": "code",
   "execution_count": 20,
   "metadata": {},
   "outputs": [
    {
     "name": "stdout",
     "output_type": "stream",
     "text": [
      "manzana\n",
      "platano\n",
      "uvas\n",
      "fresa\n",
      "mango\n",
      "manzana\n",
      "platano\n",
      "uvas\n",
      "fresa\n",
      "mango\n"
     ]
    }
   ],
   "source": [
    "# Final de la lista\n",
    "\n",
    "for num in range(0,len(frutas)):\n",
    "    print(frutas[num])"
   ]
  },
  {
   "cell_type": "code",
   "execution_count": 22,
   "metadata": {},
   "outputs": [
    {
     "name": "stdout",
     "output_type": "stream",
     "text": [
      "1 - manzana\n",
      "2 - platano\n",
      "3 - uvas\n",
      "4 - fresa\n",
      "5 - mango\n",
      "6 - manzana\n",
      "7 - platano\n",
      "8 - uvas\n",
      "9 - fresa\n",
      "10 - mango\n"
     ]
    }
   ],
   "source": [
    "# Final de la lista\n",
    "\n",
    "for num in range(0,len(frutas)):\n",
    "    print(f\"{num} - {frutas[num]}\")"
   ]
  },
  {
   "cell_type": "code",
   "execution_count": 24,
   "metadata": {},
   "outputs": [
    {
     "name": "stdout",
     "output_type": "stream",
     "text": [
      "0 - manzana\n",
      "1 - platano\n",
      "2 - uvas\n",
      "3 - fresa\n",
      "4 - mango\n",
      "5 - manzana\n",
      "6 - platano\n",
      "7 - uvas\n",
      "8 - fresa\n",
      "9 - mango\n"
     ]
    }
   ],
   "source": [
    "for num, producto in enumerate(frutas):\n",
    "    print(f\"{num + 1} - {frutas[num]}\")"
   ]
  },
  {
   "cell_type": "code",
   "execution_count": 30,
   "metadata": {},
   "outputs": [
    {
     "name": "stdout",
     "output_type": "stream",
     "text": [
      "52\n",
      "Fizz\n",
      "56\n",
      "58\n",
      "Fizz Buzz\n",
      "62\n",
      "64\n",
      "Fizz\n",
      "68\n",
      "Fizz\n",
      "74\n",
      "76\n"
     ]
    }
   ],
   "source": [
    "user_input = int(input(\"Introduce un numero de 1 al 99 para detener el conteo: \"))\n",
    "\n",
    "for num in range(0, 100):\n",
    "    fizz = num % 3\n",
    "    buzz = num % 5\n",
    "    if fizz == 0 and buzz == 0:\n",
    "        print(\"Fizz Buzz\")\n",
    "    elif fizz == 0:\n",
    "        print(\"Fizz\")\n",
    "    elif buzz == 0:\n",
    "        pass\n",
    "    else:\n",
    "        print(num)\n",
    "    if num == user_input:\n",
    "        break"
   ]
  },
  {
   "cell_type": "code",
   "execution_count": 29,
   "metadata": {},
   "outputs": [
    {
     "name": "stdout",
     "output_type": "stream",
     "text": [
      "0 0.6967709893199509\n",
      "1 0.7546096244382177\n",
      "2 0.7259603617855116\n",
      "3 0.3871611690423169\n",
      "4 0.8680040211001381\n",
      "5 0.9318285561003495\n",
      "6 0.4454224098026688\n",
      "7 0.14899150450178278\n",
      "8 0.9878043231337833\n",
      "9 0.6948134916859939\n"
     ]
    }
   ],
   "source": [
    "import random\n",
    "\n",
    "random_num_list = []\n",
    "\n",
    "for num in range(0,10):\n",
    "    random_num_list.append(random.random())\n",
    "\n",
    "for num, item in enumerate(random_num_list):\n",
    "    print(num, item)\n"
   ]
  },
  {
   "cell_type": "code",
   "execution_count": 37,
   "metadata": {},
   "outputs": [
    {
     "name": "stdout",
     "output_type": "stream",
     "text": [
      "CONSOLA: 0 -> ['PS5', 14000]\n",
      "    VALORES: 0 -> PS5\n",
      "    VALORES: 1 -> 14000\n",
      "CONSOLA: 1 -> ['XBOX', 12000]\n",
      "    VALORES: 0 -> XBOX\n",
      "    VALORES: 1 -> 12000\n",
      "CONSOLA: 2 -> ['Switch', 8000]\n",
      "    VALORES: 0 -> Switch\n",
      "    VALORES: 1 -> 8000\n",
      "CONSOLA: 3 -> ['PC Master Race', 45000]\n",
      "    VALORES: 0 -> PC Master Race\n",
      "    VALORES: 1 -> 45000\n",
      "CONSOLA: 4 -> ['Funstation', 2500]\n",
      "    VALORES: 0 -> Funstation\n",
      "    VALORES: 1 -> 2500\n"
     ]
    }
   ],
   "source": [
    "# Anidados\n",
    "consolas_videojuegos = [[\"PS5\", 14000], [\"XBOX\", 12000], [\"Switch\", 8000], [\"PC Master Race\", 45000], [\"Funstation\", 2500]]\n",
    "\n",
    "# consolas_videojuegos = [consola[valores], consola[valores], ....consola[valores]]\n",
    "\n",
    "contador_consolas = 0\n",
    "for consola in consolas_videojuegos:\n",
    "    contador_valores = 0\n",
    "    print(f\"CONSOLA: {contador_consolas} -> {consola}\")\n",
    "    for valor in consola:\n",
    "        print(f\"    VALORES: {contador_valores} -> {valor}\")\n",
    "        contador_valores += 1\n",
    "    contador_consolas += 1\n"
   ]
  },
  {
   "cell_type": "code",
   "execution_count": null,
   "metadata": {},
   "outputs": [],
   "source": [
    "# ejercicio if normal\n",
    "# Fibonacci - 0 1 1 2 3 5 8 13 21\n",
    "\n",
    "# Pedirle al usario cuantos numeros de la secuencia desea imprimir\n",
    "# imprimir el numero de secuencia empezando desde 1 hasta el input del usuario\n",
    "# imprimir el numero fibonacci\n",
    "# agregar el numero fibonacci a una lista\n",
    "\n",
    "\n"
   ]
  },
  {
   "cell_type": "code",
   "execution_count": null,
   "metadata": {},
   "outputs": [],
   "source": [
    "# Ejercicio fors anidados"
   ]
  },
  {
   "cell_type": "code",
   "execution_count": null,
   "metadata": {},
   "outputs": [],
   "source": []
  }
 ],
 "metadata": {
  "kernelspec": {
   "display_name": "Python 3",
   "language": "python",
   "name": "python3"
  },
  "language_info": {
   "codemirror_mode": {
    "name": "ipython",
    "version": 3
   },
   "file_extension": ".py",
   "mimetype": "text/x-python",
   "name": "python",
   "nbconvert_exporter": "python",
   "pygments_lexer": "ipython3",
   "version": "3.11.2"
  },
  "orig_nbformat": 4
 },
 "nbformat": 4,
 "nbformat_minor": 2
}
