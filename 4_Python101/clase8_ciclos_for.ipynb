{
 "cells": [
  {
   "attachments": {},
   "cell_type": "markdown",
   "metadata": {},
   "source": [
    "# Ciclo For"
   ]
  },
  {
   "cell_type": "code",
   "execution_count": 1,
   "metadata": {},
   "outputs": [],
   "source": [
    "frutas = [\"manzana\", \"platano\", \"uvas\", \"fresa\", \"mango\", \"manzana\", \"platano\", \"uvas\", \"fresa\", \"mango\"]"
   ]
  },
  {
   "cell_type": "code",
   "execution_count": 2,
   "metadata": {},
   "outputs": [],
   "source": [
    "productos = [\"manzana\", \"platano\", \"uvas\", \"fresa\", \"mango\"]"
   ]
  },
  {
   "cell_type": "code",
   "execution_count": 3,
   "metadata": {},
   "outputs": [
    {
     "name": "stdout",
     "output_type": "stream",
     "text": [
      "manzana\n",
      "platano\n",
      "uvas\n",
      "fresa\n",
      "mango\n"
     ]
    }
   ],
   "source": [
    "print(productos[0])\n",
    "print(productos[1])\n",
    "print(productos[2])\n",
    "print(productos[3])\n",
    "print(productos[4])"
   ]
  },
  {
   "cell_type": "code",
   "execution_count": 4,
   "metadata": {},
   "outputs": [
    {
     "name": "stdout",
     "output_type": "stream",
     "text": [
      "manzana\n",
      "platano\n",
      "uvas\n",
      "fresa\n",
      "mango\n"
     ]
    }
   ],
   "source": [
    "# De producto en producto\n",
    "productos = [\"manzana\", \"platano\", \"uvas\", \"fresa\", \"mango\"]\n",
    "\n",
    "for producto in productos:\n",
    "    print(producto)"
   ]
  },
  {
   "cell_type": "code",
   "execution_count": 6,
   "metadata": {},
   "outputs": [
    {
     "name": "stdout",
     "output_type": "stream",
     "text": [
      "manzana\n",
      "uvas\n"
     ]
    }
   ],
   "source": [
    "# Dentro de un rango\n",
    "productos = [\"manzana\", \"platano\", \"uvas\", \"fresa\", \"mango\"]\n",
    "for num in range(0,3):\n",
    "    print(productos[num])"
   ]
  },
  {
   "cell_type": "code",
   "execution_count": 7,
   "metadata": {},
   "outputs": [
    {
     "name": "stdout",
     "output_type": "stream",
     "text": [
      "manzana\n",
      "platano\n",
      "uvas\n",
      "fresa\n",
      "mango\n",
      "manzana\n",
      "platano\n",
      "uvas\n",
      "fresa\n",
      "mango\n"
     ]
    }
   ],
   "source": [
    "# Final de la lista\n",
    "\n",
    "for fruta in range(0,len(frutas)):\n",
    "    print(frutas[fruta])"
   ]
  },
  {
   "cell_type": "code",
   "execution_count": 9,
   "metadata": {},
   "outputs": [
    {
     "name": "stdout",
     "output_type": "stream",
     "text": [
      "0 => manzana\n",
      "1 => platano\n",
      "2 => uvas\n",
      "3 => fresa\n",
      "4 => mango\n",
      "5 => manzana\n",
      "6 => platano\n",
      "7 => uvas\n",
      "8 => fresa\n",
      "9 => mango\n"
     ]
    }
   ],
   "source": [
    "# Final de la lista\n",
    "\n",
    "for num in range(0,len(frutas)):\n",
    "    print(f\"{num} => {frutas[num]}\")"
   ]
  },
  {
   "cell_type": "code",
   "execution_count": 11,
   "metadata": {},
   "outputs": [
    {
     "name": "stdout",
     "output_type": "stream",
     "text": [
      "0 => manzana\n",
      "1 => platano\n",
      "2 => uvas\n",
      "3 => fresa\n",
      "4 => mango\n",
      "5 => manzana\n",
      "6 => platano\n",
      "7 => uvas\n",
      "8 => fresa\n",
      "9 => mango\n"
     ]
    }
   ],
   "source": [
    "for num, producto in enumerate(frutas):\n",
    "    print(num, \"=>\", producto)"
   ]
  },
  {
   "attachments": {},
   "cell_type": "markdown",
   "metadata": {},
   "source": [
    "## Break y Pass"
   ]
  },
  {
   "cell_type": "code",
   "execution_count": 12,
   "metadata": {},
   "outputs": [
    {
     "name": "stdout",
     "output_type": "stream",
     "text": [
      "Fizz Buzz\n",
      "Continue\n",
      "1\n",
      "Continue\n",
      "2\n",
      "Continue\n",
      "Fizz\n",
      "Continue\n",
      "4\n",
      "Continue\n",
      "Continue\n",
      "Fizz\n",
      "Continue\n",
      "7\n",
      "Continue\n",
      "8\n",
      "Continue\n",
      "Fizz\n",
      "Continue\n",
      "Continue\n",
      "11\n",
      "Continue\n",
      "Fizz\n",
      "Continue\n",
      "13\n",
      "Continue\n",
      "14\n",
      "Continue\n",
      "Fizz Buzz\n",
      "Continue\n",
      "16\n",
      "Continue\n",
      "17\n",
      "Continue\n",
      "Fizz\n",
      "Continue\n",
      "19\n",
      "Continue\n",
      "Continue\n",
      "Fizz\n",
      "Continue\n",
      "22\n",
      "Continue\n",
      "23\n",
      "Continue\n",
      "Fizz\n",
      "Continue\n",
      "Continue\n",
      "26\n",
      "Continue\n",
      "Fizz\n",
      "Continue\n",
      "28\n",
      "Continue\n",
      "29\n",
      "Continue\n",
      "Fizz Buzz\n",
      "Continue\n",
      "31\n",
      "Continue\n",
      "32\n",
      "Continue\n",
      "Fizz\n",
      "Continue\n",
      "34\n",
      "Continue\n",
      "Continue\n",
      "Fizz\n",
      "Continue\n",
      "37\n",
      "Continue\n",
      "38\n",
      "Continue\n",
      "Fizz\n",
      "Continue\n",
      "Continue\n",
      "41\n",
      "Continue\n",
      "Fizz\n",
      "Continue\n",
      "43\n",
      "Continue\n",
      "44\n",
      "Continue\n",
      "Fizz Buzz\n",
      "Continue\n",
      "46\n",
      "Continue\n",
      "47\n",
      "Continue\n",
      "Fizz\n",
      "Continue\n",
      "49\n",
      "Continue\n",
      "Continue\n",
      "Fizz\n",
      "Continue\n",
      "52\n",
      "Continue\n",
      "53\n",
      "Continue\n",
      "Fizz\n",
      "Continue\n",
      "Continue\n",
      "56\n",
      "Continue\n",
      "Fizz\n",
      "Continue\n",
      "58\n",
      "Continue\n",
      "59\n",
      "Continue\n",
      "Fizz Buzz\n",
      "Continue\n",
      "61\n",
      "Continue\n",
      "62\n",
      "Continue\n",
      "Fizz\n",
      "Continue\n",
      "64\n",
      "Continue\n",
      "Continue\n",
      "Fizz\n",
      "Continue\n"
     ]
    }
   ],
   "source": [
    "user_input = int(input(\"En que numero te quieres detener: \"))\n",
    "\n",
    "for num in range(0, user_input):\n",
    "    fizz = num % 3\n",
    "    buzz = num % 5\n",
    "    if fizz == 0 and buzz == 0:\n",
    "        print(\"Fizz Buzz\")\n",
    "    elif fizz == 0:\n",
    "        print(\"Fizz\")\n",
    "    elif buzz == 0:\n",
    "        pass\n",
    "    #elif num == user_input:\n",
    "    #    break\n",
    "    else:\n",
    "        print(num)\n",
    "    \n",
    "    if num == user_input:\n",
    "        print(\"Exit\")\n",
    "        break\n",
    "    else:\n",
    "        print(\"Continue\")"
   ]
  },
  {
   "cell_type": "code",
   "execution_count": 13,
   "metadata": {},
   "outputs": [
    {
     "name": "stdout",
     "output_type": "stream",
     "text": [
      "1 -> 25\n",
      "2 -> 31\n",
      "3 -> 21\n",
      "4 -> 8\n",
      "5 -> 12\n",
      "6 -> 16\n",
      "7 -> 27\n",
      "8 -> 40\n",
      "9 -> 36\n",
      "10 -> 28\n",
      "11 -> 13\n",
      "12 -> 17\n",
      "13 -> 45\n",
      "14 -> 32\n",
      "15 -> 24\n"
     ]
    }
   ],
   "source": [
    "import random\n",
    "\n",
    "random_num_list = []\n",
    "\n",
    "for num in range(0,15):\n",
    "    random_num_list.append(random.randint(1,50))\n",
    "\n",
    "for num, item in enumerate(random_num_list):\n",
    "    print(num+1, \"->\" ,item)\n"
   ]
  },
  {
   "cell_type": "code",
   "execution_count": 15,
   "metadata": {},
   "outputs": [
    {
     "name": "stdout",
     "output_type": "stream",
     "text": [
      "CONSOLA: 0 -> ['PS5', 14000]\n",
      "    VALORES: 0 -> PS5\n",
      "    VALORES: 1 -> 14000\n",
      "CONSOLA: 1 -> ['XBOX', 12000]\n",
      "    VALORES: 0 -> XBOX\n",
      "    VALORES: 1 -> 12000\n",
      "CONSOLA: 2 -> ['Switch', 8000]\n",
      "    VALORES: 0 -> Switch\n",
      "    VALORES: 1 -> 8000\n",
      "CONSOLA: 3 -> ['PC Master Race', 45000]\n",
      "    VALORES: 0 -> PC Master Race\n",
      "    VALORES: 1 -> 45000\n",
      "CONSOLA: 4 -> ['Funstation', 2500]\n",
      "    VALORES: 0 -> Funstation\n",
      "    VALORES: 1 -> 2500\n"
     ]
    }
   ],
   "source": [
    "# Anidados\n",
    "consolas_videojuegos = [[\"PS5\", 14000], [\"XBOX\", 12000], [\"Switch\", 8000], [\"PC Master Race\", 45000], [\"Funstation\", 2500]]\n",
    "\n",
    "# consolas_videojuegos = [consola[valores], consola[valores], ....consola[valores]]\n",
    "\n",
    "contador_consolas = 0\n",
    "\n",
    "for consola in consolas_videojuegos:\n",
    "    print(f\"CONSOLA: {contador_consolas} -> {consola}\")\n",
    "    contador_valores = 0\n",
    "    for valor in consola:\n",
    "        print(f\"    VALORES: {contador_valores} -> {valor}\")\n",
    "        contador_valores += 1\n",
    "    contador_consolas += 1\n"
   ]
  },
  {
   "cell_type": "code",
   "execution_count": 14,
   "metadata": {},
   "outputs": [
    {
     "name": "stdout",
     "output_type": "stream",
     "text": [
      "Consola Switch tiene un costo de $8000\n"
     ]
    }
   ],
   "source": [
    "consolas_videojuegos = [[\"PS5\", 14000], [\"XBOX\", 12000], [\"Switch\", 8000], [\"PC Master Race\", 45000], [\"Funstation\", 2500]]\n",
    "\n",
    "print(f\"Consola {consolas_videojuegos[2][0]} tiene un costo de ${consolas_videojuegos[2][1]}\")"
   ]
  },
  {
   "cell_type": "code",
   "execution_count": null,
   "metadata": {},
   "outputs": [],
   "source": [
    "# Fibonacci - 0 1 1 2 3 5 8 13 21\n",
    "\n",
    "# Pedirle al usario cuantos numeros de la secuencia desea imprimir\n",
    "# imprimir el numero de secuencia empezando desde 1 hasta el input del usuario\n",
    "# imprimir el numero fibonacci\n",
    "# agregar el numero fibonacci a una lista\n",
    "# imprimir lista de numeros fibonacci\n",
    "\n",
    "cuantos numeros quieres ver: 5\n",
    "1 -> 0\n",
    "2 -> 1\n",
    "3 -> 1\n",
    "4 -> 2\n",
    "5 -> 3\n",
    "[0, 1, 1, 2, 3]\n",
    "\n",
    "\n",
    "\n"
   ]
  },
  {
   "cell_type": "code",
   "execution_count": null,
   "metadata": {},
   "outputs": [],
   "source": [
    "# Ejercicio fors anidados"
   ]
  },
  {
   "cell_type": "code",
   "execution_count": null,
   "metadata": {},
   "outputs": [],
   "source": []
  }
 ],
 "metadata": {
  "kernelspec": {
   "display_name": "Python 3",
   "language": "python",
   "name": "python3"
  },
  "language_info": {
   "codemirror_mode": {
    "name": "ipython",
    "version": 3
   },
   "file_extension": ".py",
   "mimetype": "text/x-python",
   "name": "python",
   "nbconvert_exporter": "python",
   "pygments_lexer": "ipython3",
   "version": "3.11.2"
  },
  "orig_nbformat": 4
 },
 "nbformat": 4,
 "nbformat_minor": 2
}
