{
 "cells": [
  {
   "cell_type": "code",
   "execution_count": 2,
   "metadata": {},
   "outputs": [
    {
     "ename": "TypeError",
     "evalue": "unsupported operand type(s) for +: 'int' and 'str'",
     "output_type": "error",
     "traceback": [
      "\u001b[1;31m---------------------------------------------------------------------------\u001b[0m",
      "\u001b[1;31mTypeError\u001b[0m                                 Traceback (most recent call last)",
      "Cell \u001b[1;32mIn[2], line 4\u001b[0m\n\u001b[0;32m      1\u001b[0m number_1 \u001b[39m=\u001b[39m \u001b[39m5\u001b[39m\n\u001b[0;32m      2\u001b[0m number_2 \u001b[39m=\u001b[39m \u001b[39m\"\u001b[39m\u001b[39mseis\u001b[39m\u001b[39m\"\u001b[39m\n\u001b[1;32m----> 4\u001b[0m suma \u001b[39m=\u001b[39m number_1 \u001b[39m+\u001b[39;49m number_2\n",
      "\u001b[1;31mTypeError\u001b[0m: unsupported operand type(s) for +: 'int' and 'str'"
     ]
    }
   ],
   "source": [
    "number_1 = 5\n",
    "number_2 = \"seis\"\n",
    "\n",
    "suma = number_1 + number_2"
   ]
  },
  {
   "cell_type": "code",
   "execution_count": 3,
   "metadata": {},
   "outputs": [
    {
     "name": "stdout",
     "output_type": "stream",
     "text": [
      "No se pueden sumar palabras unsupported operand type(s) for +: 'int' and 'str'\n"
     ]
    }
   ],
   "source": [
    "try:\n",
    "    number_1 = 5\n",
    "    number_2 = \"seis\"\n",
    "    suma = number_1 + number_2\n",
    "except TypeError as e:\n",
    "    print(f\"No se pueden sumar palabras {e}\")"
   ]
  },
  {
   "cell_type": "code",
   "execution_count": 6,
   "metadata": {},
   "outputs": [
    {
     "name": "stdout",
     "output_type": "stream",
     "text": [
      "Hubo un error\n"
     ]
    }
   ],
   "source": [
    "try:\n",
    "    number_1 = 5\n",
    "    number_2 = \"seis\"\n",
    "    suma = number_1 + number_2\n",
    "except:\n",
    "    print(f\"Hubo un error\")"
   ]
  },
  {
   "cell_type": "code",
   "execution_count": 8,
   "metadata": {},
   "outputs": [
    {
     "name": "stdout",
     "output_type": "stream",
     "text": [
      "Estas introduciendo una palabra\n",
      "11\n"
     ]
    }
   ],
   "source": [
    "try:\n",
    "    number_1 = 5\n",
    "    number_2 = \"seis\"\n",
    "    suma = number_1 + number_2\n",
    "except TypeError:\n",
    "    print(f\"Estas introduciendo una palabra\")\n",
    "    number_3 = int(input(\"Introduce un numero: \"))\n",
    "    suma_nueva = number_1 + number_3\n",
    "    print(suma_nueva)"
   ]
  },
  {
   "cell_type": "code",
   "execution_count": 12,
   "metadata": {},
   "outputs": [
    {
     "name": "stdout",
     "output_type": "stream",
     "text": [
      "Estas introduciendo una palabra\n",
      "Se ejecuto la suma de dos numeros\n"
     ]
    }
   ],
   "source": [
    "try:\n",
    "    number_1 = 5\n",
    "    number_2 = \"6\"\n",
    "    suma = number_1 + number_2\n",
    "    print(suma)\n",
    "except TypeError:\n",
    "    print(f\"Estas introduciendo una palabra\")\n",
    "finally:\n",
    "    print(\"Se ejecuto la suma de dos numeros\")"
   ]
  }
 ],
 "metadata": {
  "kernelspec": {
   "display_name": "Python 3",
   "language": "python",
   "name": "python3"
  },
  "language_info": {
   "codemirror_mode": {
    "name": "ipython",
    "version": 3
   },
   "file_extension": ".py",
   "mimetype": "text/x-python",
   "name": "python",
   "nbconvert_exporter": "python",
   "pygments_lexer": "ipython3",
   "version": "3.11.2"
  },
  "orig_nbformat": 4
 },
 "nbformat": 4,
 "nbformat_minor": 2
}
