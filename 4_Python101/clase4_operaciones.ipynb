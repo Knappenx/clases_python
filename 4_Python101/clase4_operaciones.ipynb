{
 "cells": [
  {
   "attachments": {},
   "cell_type": "markdown",
   "metadata": {},
   "source": [
    "# Operaciones\n",
    "\n",
    "Vamos a ver operaciones matemáticas comunes en Python. Algunas de estas nos servirán para hacer las operaciones que realizamos día con día, pero otras nos ayudarán más adelante a definir condiciones en nuestros procesos.\n",
    "\n",
    "Para realizar operaciones matemáticas a diferencia de otros lenguajes de programación podemos usar dos diferentes tipos de datos, enteros y flotantes."
   ]
  },
  {
   "cell_type": "code",
   "execution_count": 1,
   "metadata": {},
   "outputs": [],
   "source": [
    "# Flotantes y Enteros\n",
    "\n",
    "num_entero = 5\n",
    "num_entero2 = 10\n",
    "\n",
    "num_flotante1 = 8.08\n",
    "num_flotante2 = 13.55"
   ]
  },
  {
   "cell_type": "code",
   "execution_count": 3,
   "metadata": {},
   "outputs": [
    {
     "name": "stdout",
     "output_type": "stream",
     "text": [
      "15\n",
      "21.630000000000003\n",
      "18.55\n"
     ]
    }
   ],
   "source": [
    "# Suma\n",
    "\n",
    "suma_int = num_entero + num_entero2\n",
    "print(suma_int)\n",
    "\n",
    "suma_float = num_flotante1 + num_flotante2\n",
    "print(suma_float)\n",
    "\n",
    "suma_mixta = num_entero + num_flotante2\n",
    "print(suma_mixta)"
   ]
  },
  {
   "cell_type": "code",
   "execution_count": 4,
   "metadata": {},
   "outputs": [
    {
     "name": "stdout",
     "output_type": "stream",
     "text": [
      "1.92\n"
     ]
    }
   ],
   "source": [
    "# Resta\n",
    "\n",
    "resta = num_entero2 - num_flotante1\n",
    "print(resta)"
   ]
  },
  {
   "cell_type": "code",
   "execution_count": 5,
   "metadata": {},
   "outputs": [
    {
     "name": "stdout",
     "output_type": "stream",
     "text": [
      "45\n"
     ]
    }
   ],
   "source": [
    "# Multiplicación\n",
    "\n",
    "multiplicacion = 9 * 5\n",
    "print(multiplicacion)"
   ]
  },
  {
   "cell_type": "code",
   "execution_count": 6,
   "metadata": {},
   "outputs": [
    {
     "name": "stdout",
     "output_type": "stream",
     "text": [
      "2.0\n",
      "6.34920634920635\n"
     ]
    }
   ],
   "source": [
    "# División común\n",
    "\n",
    "division = 10 / 5\n",
    "print(division)\n",
    "\n",
    "division2 = 20 / 3.15\n",
    "print(division2)"
   ]
  },
  {
   "cell_type": "code",
   "execution_count": 7,
   "metadata": {},
   "outputs": [
    {
     "name": "stdout",
     "output_type": "stream",
     "text": [
      "6.0\n"
     ]
    }
   ],
   "source": [
    "# División redondeada\n",
    "\n",
    "redondeado = 20 // 3.15\n",
    "print(redondeado)"
   ]
  },
  {
   "cell_type": "code",
   "execution_count": 8,
   "metadata": {},
   "outputs": [
    {
     "name": "stdout",
     "output_type": "stream",
     "text": [
      "1.1000000000000005\n"
     ]
    }
   ],
   "source": [
    "# División residual\n",
    "\n",
    "redondeado = 20 % 3.15\n",
    "print(redondeado)\n",
    "\n",
    "# 20 - 18.9 = 1.1\n",
    "# 3.15 cabe 6 veces en 20 y sobra 1.1"
   ]
  },
  {
   "cell_type": "code",
   "execution_count": 9,
   "metadata": {},
   "outputs": [
    {
     "name": "stdout",
     "output_type": "stream",
     "text": [
      "16\n"
     ]
    }
   ],
   "source": [
    "# Potencia\n",
    "\n",
    "potencia = 4 ** 2\n",
    "print(potencia)"
   ]
  },
  {
   "cell_type": "code",
   "execution_count": 10,
   "metadata": {},
   "outputs": [
    {
     "name": "stdout",
     "output_type": "stream",
     "text": [
      "3.0\n"
     ]
    }
   ],
   "source": [
    "# Raiz Cuadrada\n",
    "import math\n",
    "\n",
    "raiz = math.sqrt(9)\n",
    "print(raiz)"
   ]
  }
 ],
 "metadata": {
  "kernelspec": {
   "display_name": "Python 3.7.8 64-bit",
   "language": "python",
   "name": "python3"
  },
  "language_info": {
   "codemirror_mode": {
    "name": "ipython",
    "version": 3
   },
   "file_extension": ".py",
   "mimetype": "text/x-python",
   "name": "python",
   "nbconvert_exporter": "python",
   "pygments_lexer": "ipython3",
   "version": "3.7.8"
  },
  "orig_nbformat": 4,
  "vscode": {
   "interpreter": {
    "hash": "0a54084e6b208ee8d1ce3989ffc20924477a5f55f5a43e22e699a6741623861e"
   }
  }
 },
 "nbformat": 4,
 "nbformat_minor": 2
}
