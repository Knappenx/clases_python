{
 "cells": [
  {
   "attachments": {},
   "cell_type": "markdown",
   "metadata": {},
   "source": [
    "# Problema - Parte 1\n",
    "\n",
    "Trataremos de ir resolviendo el problema con lo que hemos aprendido hasta ahora.\n",
    "Realizaremos las siguientes acciones:\n",
    "  - Definir un usuario\n",
    "    - Nombre\n",
    "    - Apellido\n",
    "    - No. Empleado\n",
    "    - Puesto\n",
    "    - Edad\n",
    "    - Antiguedad\n",
    "    - Sindicalizado\n",
    "  - Registrar todos los datos de un usuario\n",
    "  - Mostrar los datos del usuario definido y del usuario registrado"
   ]
  },
  {
   "cell_type": "code",
   "execution_count": 1,
   "metadata": {},
   "outputs": [
    {
     "data": {
      "text/plain": [
       "'\\nPedir informacion del usuario\\nGuardar en variables del tipo correspondiente\\n    nombre_usuario = str\\n    apellido_usuario = str\\n    num_usuario = str\\n    puesto_usuario = str\\n    edad_usuario = int\\n    antiguedad = float\\n    sindicalizado = bool\\nImprimir detalles del usuario\\n'"
      ]
     },
     "execution_count": 1,
     "metadata": {},
     "output_type": "execute_result"
    }
   ],
   "source": [
    "\n",
    "nombre_usuario = \"Juan\"\n",
    "apellido_usuario = \"Hernandez\"\n",
    "num_usuario = \"N0001\"\n",
    "puesto_usuario = \"Inge\"\n",
    "edad_usuario = 40\n",
    "antiguedad = 5.8\n",
    "sindicalizado = False\n",
    "\n",
    "\"\"\"\n",
    "Pedir informacion del usuario\n",
    "Guardar en variables del tipo correspondiente\n",
    "nombre_usuario = str\n",
    "apellido_usuario = str\n",
    "num_usuario = str\n",
    "puesto_usuario = str\n",
    "edad_usuario = int\n",
    "antiguedad = float\n",
    "sindicalizado = bool\n",
    "Imprimir detalles del usuario\n",
    "\"\"\"\n"
   ]
  }
 ],
 "metadata": {
  "kernelspec": {
   "display_name": "Python 3.7.8 64-bit",
   "language": "python",
   "name": "python3"
  },
  "language_info": {
   "codemirror_mode": {
    "name": "ipython",
    "version": 3
   },
   "file_extension": ".py",
   "mimetype": "text/x-python",
   "name": "python",
   "nbconvert_exporter": "python",
   "pygments_lexer": "ipython3",
   "version": "3.7.8"
  },
  "orig_nbformat": 4,
  "vscode": {
   "interpreter": {
    "hash": "0a54084e6b208ee8d1ce3989ffc20924477a5f55f5a43e22e699a6741623861e"
   }
  }
 },
 "nbformat": 4,
 "nbformat_minor": 2
}
