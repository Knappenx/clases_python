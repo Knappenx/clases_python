{
 "cells": [
  {
   "cell_type": "code",
   "execution_count": 2,
   "metadata": {},
   "outputs": [
    {
     "name": "stdout",
     "output_type": "stream",
     "text": [
      "2\n",
      "['Mexico', 'Islandia', 'Noruega', 'Francia']\n"
     ]
    }
   ],
   "source": [
    "# Usar metodos para modificar una lista y llegar al resultado final\n",
    "# Agregar a lista 2- Islandia\n",
    "# Quitar de lista 1 - Estados Unidos\n",
    "# Concatenar listas en una lista nueva\n",
    "# Ordenar alfabeticamente\n",
    "# Revertir Orden\n",
    "# Obtener Indice de Inglaterra\n",
    "# Actualizar item en indice 2 por Noruega\n",
    "# Imprimir lista \n",
    "\n",
    "lista = [\"Mexico\", \"Estados Unidos\"]\n",
    "lista2 = [\"Inglaterra\", \"Francia\"]\n"
   ]
  }
 ],
 "metadata": {
  "kernelspec": {
   "display_name": "Python 3",
   "language": "python",
   "name": "python3"
  },
  "language_info": {
   "codemirror_mode": {
    "name": "ipython",
    "version": 3
   },
   "file_extension": ".py",
   "mimetype": "text/x-python",
   "name": "python",
   "nbconvert_exporter": "python",
   "pygments_lexer": "ipython3",
   "version": "3.11.2"
  },
  "orig_nbformat": 4
 },
 "nbformat": 4,
 "nbformat_minor": 2
}
