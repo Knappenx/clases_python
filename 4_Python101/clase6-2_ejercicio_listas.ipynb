{
 "cells": [
  {
   "cell_type": "code",
   "execution_count": null,
   "metadata": {},
   "outputs": [],
   "source": [
    "# USar metodos para modificar una lista y llegar al resultado final\n",
    "# Agregar\n",
    "# Quitar\n",
    "# Concatenar listas\n",
    "# Ordenar alfabeticamente\n",
    "# Revertir Orden\n",
    "# Obtener Indice de XYYZ\n",
    "# Actualizar item en indice X\n",
    "# Imprimir lista\n",
    "\n",
    "lista = [\"Link\", \"Zelda\", ]\n",
    "\n",
    "lista_final = [\"Ganonfdorf\"]"
   ]
  }
 ],
 "metadata": {
  "language_info": {
   "name": "python"
  },
  "orig_nbformat": 4
 },
 "nbformat": 4,
 "nbformat_minor": 2
}
