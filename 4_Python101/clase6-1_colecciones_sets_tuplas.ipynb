{
 "cells": [
  {
   "attachments": {},
   "cell_type": "markdown",
   "metadata": {},
   "source": [
    "# Colecciones 1.1\n",
    "\n",
    "## Sets\n",
    "\n",
    "Los sets son similares a las listas, solo que estos no almacenan datos duplicados y no es ordenado."
   ]
  },
  {
   "cell_type": "code",
   "execution_count": 1,
   "metadata": {},
   "outputs": [
    {
     "name": "stdout",
     "output_type": "stream",
     "text": [
      "[-2, 0, 1, 1, 2, 3, 4, 4, 5]\n"
     ]
    }
   ],
   "source": [
    "lista = [-2, 0, 1, 1, 2, 3, 4, 4, 5]\n",
    "print(lista)"
   ]
  },
  {
   "cell_type": "code",
   "execution_count": 2,
   "metadata": {},
   "outputs": [
    {
     "name": "stdout",
     "output_type": "stream",
     "text": [
      "{0, 1, 2, 3, 4, 5, -2}\n"
     ]
    }
   ],
   "source": [
    "# Convirtiendo una lista a SET\n",
    "\n",
    "set1 = set(lista)\n",
    "print(set1)"
   ]
  },
  {
   "cell_type": "code",
   "execution_count": 5,
   "metadata": {},
   "outputs": [
    {
     "name": "stdout",
     "output_type": "stream",
     "text": [
      "{0, 1, 2, 3, 4, 5, -2}\n"
     ]
    }
   ],
   "source": [
    "set2 = {-2, 0, 1, 1, 2, 3, 4, 4, 5}\n",
    "print(set2)"
   ]
  },
  {
   "cell_type": "code",
   "execution_count": 7,
   "metadata": {},
   "outputs": [
    {
     "name": "stdout",
     "output_type": "stream",
     "text": [
      "{'Irlandes', 'Cold Brew', 'Americano', 'Capuccino', 'Latte'}\n"
     ]
    }
   ],
   "source": [
    "# Set de strings\n",
    "\n",
    "productos = [\"Capuccino\", \"Irlandes\", \"Americano\", \"Latte\", \"Cold Brew\", \"Americano\"]\n",
    "set3 = set(productos)\n",
    "print(set3)"
   ]
  },
  {
   "cell_type": "code",
   "execution_count": 8,
   "metadata": {},
   "outputs": [
    {
     "name": "stdout",
     "output_type": "stream",
     "text": [
      "{'Irlandes', 'Cold Brew', 'Chai', 'Americano', 'Capuccino', 'Latte'}\n"
     ]
    }
   ],
   "source": [
    "# Metodos de un set\n",
    "\n",
    "set3.add(\"Chai\")\n",
    "print(set3)"
   ]
  },
  {
   "attachments": {},
   "cell_type": "markdown",
   "metadata": {},
   "source": [
    "## Tuplas\n",
    "\n",
    "Las tuplas nos permiten almacenar datos definidos y ordenados, pero una vez generado estos no pueden ser modificados. Veremos en unas sesiones donde son utilizados por Python y donde nosotros los podemos usar a menudo."
   ]
  },
  {
   "cell_type": "code",
   "execution_count": 9,
   "metadata": {},
   "outputs": [
    {
     "name": "stdout",
     "output_type": "stream",
     "text": [
      "('Neo', 'Matrix', 1999)\n"
     ]
    }
   ],
   "source": [
    "# Iniciando una tupla\n",
    "\n",
    "tupla1 = (\"Neo\", \"Matrix\", 1999)\n",
    "print(tupla1)"
   ]
  },
  {
   "cell_type": "code",
   "execution_count": null,
   "metadata": {},
   "outputs": [],
   "source": [
    "# Metodos de una tupla\n",
    "\n",
    "tupla1."
   ]
  },
  {
   "cell_type": "code",
   "execution_count": 10,
   "metadata": {},
   "outputs": [
    {
     "name": "stdout",
     "output_type": "stream",
     "text": [
      "Neo\n",
      "Matrix\n",
      "1999\n"
     ]
    }
   ],
   "source": [
    "var1, var2, var3 = tupla1\n",
    "print(var1)\n",
    "print(var2)\n",
    "print(var3)"
   ]
  },
  {
   "cell_type": "code",
   "execution_count": 11,
   "metadata": {},
   "outputs": [
    {
     "name": "stdout",
     "output_type": "stream",
     "text": [
      "1\n",
      "2\n",
      "3\n"
     ]
    }
   ],
   "source": [
    "lista1 = [1, 2, 3]\n",
    "var4, var5, var6 = lista1\n",
    "\n",
    "print(var4)\n",
    "print(var5)\n",
    "print(var6)"
   ]
  }
 ],
 "metadata": {
  "kernelspec": {
   "display_name": "\"Python/Mu (mu_venv-38-20211108-193157)\"",
   "language": "python",
   "name": "mu_venv-38-20211108-193157"
  },
  "language_info": {
   "codemirror_mode": {
    "name": "ipython",
    "version": 3
   },
   "file_extension": ".py",
   "mimetype": "text/x-python",
   "name": "python",
   "nbconvert_exporter": "python",
   "pygments_lexer": "ipython3",
   "version": "3.8.5"
  },
  "orig_nbformat": 4,
  "vscode": {
   "interpreter": {
    "hash": "5779294b255e944f23d4c4cb90ad21e8828fe6e82af371af2cc7fb049de5d87f"
   }
  }
 },
 "nbformat": 4,
 "nbformat_minor": 2
}
