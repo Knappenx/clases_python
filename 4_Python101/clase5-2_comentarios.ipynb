{
 "cells": [
  {
   "attachments": {},
   "cell_type": "markdown",
   "metadata": {},
   "source": [
    "# Comentarios\n",
    "\n",
    "Los comentarios en `Python` nos permiten agregar lineas de texto que seran ignoradas al ejecutar el programa. Ayudan a que podamos brindar informacion sobre que hace nuestro codigo en algunas partes.\n",
    "\n",
    "Hay dos maneras de representar comentarios, en una sola linea o en varias.\n",
    "\n",
    "## Comentarios en una linea"
   ]
  },
  {
   "cell_type": "code",
   "execution_count": 1,
   "metadata": {},
   "outputs": [
    {
     "name": "stdout",
     "output_type": "stream",
     "text": [
      "Neo\n"
     ]
    }
   ],
   "source": [
    "# Esto es un comentario en una sola linea\n",
    "\n",
    "# Definiendo el nombre del usuario\n",
    "user_name = \"Neo\"\n",
    "\n",
    "print(user_name)"
   ]
  },
  {
   "attachments": {},
   "cell_type": "markdown",
   "metadata": {},
   "source": [
    "## Comentarios en multiples lineas"
   ]
  },
  {
   "cell_type": "code",
   "execution_count": 2,
   "metadata": {},
   "outputs": [
    {
     "name": "stdout",
     "output_type": "stream",
     "text": [
      "Tu nombre de usuario es Nahim\n"
     ]
    }
   ],
   "source": [
    "\"\"\"\n",
    "En este programa vamos a definir un usuario con la informacion\n",
    "brindada por el usuario a traves de un input.\n",
    "\n",
    "Despues la mostraremos en pantalla\n",
    "\"\"\"\n",
    "\n",
    "user_name_input = input(\"Introduce tu nombre: \")\n",
    "print(f\"Tu nombre de usuario es {user_name_input}\") "
   ]
  }
 ],
 "metadata": {
  "kernelspec": {
   "display_name": "Python 3",
   "language": "python",
   "name": "python3"
  },
  "language_info": {
   "codemirror_mode": {
    "name": "ipython",
    "version": 3
   },
   "file_extension": ".py",
   "mimetype": "text/x-python",
   "name": "python",
   "nbconvert_exporter": "python",
   "pygments_lexer": "ipython3",
   "version": "3.11.2"
  },
  "orig_nbformat": 4
 },
 "nbformat": 4,
 "nbformat_minor": 2
}
