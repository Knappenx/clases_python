{
 "cells": [
  {
   "attachments": {},
   "cell_type": "markdown",
   "metadata": {},
   "source": [
    "# Colecciones 1.2\n",
    "\n",
    "## Diccionarios\n",
    "\n",
    "Los diccionarios son complejos pero bastante útiles y mejor estructurados. Estan compuestos de una  llave o `key` y de un valor o `value`. La `key` es un valor \n"
   ]
  },
  {
   "cell_type": "code",
   "execution_count": 9,
   "metadata": {},
   "outputs": [],
   "source": [
    "main_dict = {\"nombre\": \"Juan\"}"
   ]
  },
  {
   "cell_type": "code",
   "execution_count": 10,
   "metadata": {},
   "outputs": [],
   "source": [
    "main_dict = {\n",
    "    \"nombre\": \"Juan\",\n",
    "    \"apellido\": \"Ramirez\"\n",
    "}"
   ]
  },
  {
   "cell_type": "code",
   "execution_count": 11,
   "metadata": {},
   "outputs": [],
   "source": [
    "main_dict = {\n",
    "    \"usuarios\": {\n",
    "        \"jose@gmail.com\":{\n",
    "            \"nombre\": \"Jose\",\n",
    "            \"apellido\": \"Badillo\",\n",
    "            \"edad\": 30,\n",
    "            \"antiguedad\": 2.5,\n",
    "            \"suscripcion\": False,\n",
    "            \"carrito\": [\"Libro\", \"Microfono\", \"Tele\"]\n",
    "        },\n",
    "        \"alex@gmail.com\":{\n",
    "            \"nombre\": \"Alejandro\",\n",
    "            \"apellido\": \"Pichardo\",\n",
    "            \"edad\": 31,\n",
    "            \"antiguedad\": 1,\n",
    "            \"suscripcion\": True,\n",
    "            \"carrito\": []\n",
    "        }\n",
    "    },\n",
    "    \"productos\": {\n",
    "        \"Libro\": {\n",
    "            \"vendedor\": \"Ghandi\",\n",
    "            \"titulo\": \"El seor de los anilos\",\n",
    "            \"precio\": 299.99\n",
    "        }, \n",
    "        \"Tele\":{\n",
    "            \"vendedor\": \"Samsung\",\n",
    "            \"modelo\": \"UD890909\",\n",
    "            \"precio\": 10000\n",
    "        }\n",
    "    }\n",
    "}"
   ]
  },
  {
   "attachments": {},
   "cell_type": "markdown",
   "metadata": {},
   "source": [
    "## Agregar"
   ]
  },
  {
   "cell_type": "code",
   "execution_count": 12,
   "metadata": {},
   "outputs": [
    {
     "name": "stdout",
     "output_type": "stream",
     "text": [
      "{'usuarios': {'jose@gmail.com': {'nombre': 'Jose', 'apellido': 'Badillo', 'edad': 30, 'antiguedad': 2.5, 'suscripcion': False, 'carrito': ['Libro', 'Microfono', 'Tele']}, 'alex@gmail.com': {'nombre': 'Alejandro', 'apellido': 'Pichardo', 'edad': 31, 'antiguedad': 1, 'suscripcion': True, 'carrito': []}}, 'productos': {'Libro': {'vendedor': 'Ghandi', 'titulo': 'El seor de los anilos', 'precio': 299.99}, 'Microfono': {'vendedor': 'Samsung', 'modelo': 'UD890909', 'precio': 10000}}}\n"
     ]
    }
   ],
   "source": [
    "print(main_dict)"
   ]
  },
  {
   "cell_type": "code",
   "execution_count": 13,
   "metadata": {},
   "outputs": [],
   "source": [
    "usuario = \"xavier@gmail.com\"\n",
    "nombre_usuario = \"Xavi\"\n",
    "apellido_usuario = \"Abugannam\"\n",
    "edad_usuario = 33\n",
    "antiguedad_usuario = 3\n",
    "suscripcion_usuario = True\n",
    "carrito_usuario = [\"ipad\"]\n",
    "\n",
    "dict_usuario = {\n",
    "    \"nombre\": nombre_usuario,\n",
    "    \"apellido\": apellido_usuario,\n",
    "    \"edad\": edad_usuario,\n",
    "    \"antiguedad\":suscripcion_usuario,\n",
    "    \"suscripcion\": suscripcion_usuario,\n",
    "    \"carrito\": carrito_usuario\n",
    "}"
   ]
  },
  {
   "cell_type": "code",
   "execution_count": 14,
   "metadata": {},
   "outputs": [
    {
     "name": "stdout",
     "output_type": "stream",
     "text": [
      "{'usuarios': {'jose@gmail.com': {'nombre': 'Jose', 'apellido': 'Badillo', 'edad': 30, 'antiguedad': 2.5, 'suscripcion': False, 'carrito': ['Libro', 'Microfono', 'Tele']}, 'alex@gmail.com': {'nombre': 'Alejandro', 'apellido': 'Pichardo', 'edad': 31, 'antiguedad': 1, 'suscripcion': True, 'carrito': []}, 'xavier@gmail.com': {'nombre': 'Xavi', 'apellido': 'Abugannam', 'edad': 33, 'antiguedad': True, 'suscripcion': True, 'carrito': ['ipad']}}, 'productos': {'Libro': {'vendedor': 'Ghandi', 'titulo': 'El seor de los anilos', 'precio': 299.99}, 'Microfono': {'vendedor': 'Samsung', 'modelo': 'UD890909', 'precio': 10000}}}\n"
     ]
    }
   ],
   "source": [
    "main_dict[\"usuarios\"][usuario] = dict_usuario\n",
    "\n",
    "print(main_dict)"
   ]
  },
  {
   "attachments": {},
   "cell_type": "markdown",
   "metadata": {},
   "source": [
    "## Actualizar datos"
   ]
  },
  {
   "cell_type": "code",
   "execution_count": 15,
   "metadata": {},
   "outputs": [
    {
     "name": "stdout",
     "output_type": "stream",
     "text": [
      "{'usuarios': {'jose@gmail.com': {'nombre': 'Milton', 'apellido': 'Badillo', 'edad': 30, 'antiguedad': 2.5, 'suscripcion': False, 'carrito': ['Libro', 'Microfono', 'Tele']}, 'alex@gmail.com': {'nombre': 'Alejandro', 'apellido': 'Pichardo', 'edad': 31, 'antiguedad': 1, 'suscripcion': True, 'carrito': []}, 'xavier@gmail.com': {'nombre': 'Xavi', 'apellido': 'Abugannam', 'edad': 33, 'antiguedad': True, 'suscripcion': True, 'carrito': ['ipad']}}, 'productos': {'Libro': {'vendedor': 'Ghandi', 'titulo': 'El seor de los anilos', 'precio': 299.99}, 'Microfono': {'vendedor': 'Samsung', 'modelo': 'UD890909', 'precio': 10000}}}\n"
     ]
    }
   ],
   "source": [
    "main_dict[\"usuarios\"][\"jose@gmail.com\"][\"nombre\"] = \"Milton\"\n",
    "print(main_dict)"
   ]
  },
  {
   "attachments": {},
   "cell_type": "markdown",
   "metadata": {},
   "source": [
    "## Borrar datos"
   ]
  },
  {
   "cell_type": "code",
   "execution_count": 16,
   "metadata": {},
   "outputs": [
    {
     "name": "stdout",
     "output_type": "stream",
     "text": [
      "{'usuarios': {'alex@gmail.com': {'nombre': 'Alejandro', 'apellido': 'Pichardo', 'edad': 31, 'antiguedad': 1, 'suscripcion': True, 'carrito': []}, 'xavier@gmail.com': {'nombre': 'Xavi', 'apellido': 'Abugannam', 'edad': 33, 'antiguedad': True, 'suscripcion': True, 'carrito': ['ipad']}}, 'productos': {'Libro': {'vendedor': 'Ghandi', 'titulo': 'El seor de los anilos', 'precio': 299.99}, 'Microfono': {'vendedor': 'Samsung', 'modelo': 'UD890909', 'precio': 10000}}}\n"
     ]
    }
   ],
   "source": [
    "del main_dict[\"usuarios\"][\"jose@gmail.com\"]\n",
    "\n",
    "print(main_dict)"
   ]
  },
  {
   "cell_type": "code",
   "execution_count": 18,
   "metadata": {},
   "outputs": [
    {
     "name": "stdout",
     "output_type": "stream",
     "text": [
      "User not found\n"
     ]
    }
   ],
   "source": [
    "if \"jose@gmail.com\" in main_dict[\"usuarios\"]:\n",
    "    print(\"User found\")\n",
    "else:\n",
    "    print(\"User not found\")"
   ]
  },
  {
   "cell_type": "code",
   "execution_count": 19,
   "metadata": {},
   "outputs": [
    {
     "name": "stdout",
     "output_type": "stream",
     "text": [
      "User found\n"
     ]
    }
   ],
   "source": [
    "if \"alex@gmail.com\" in main_dict[\"usuarios\"]:\n",
    "    print(\"User found\")\n",
    "else:\n",
    "    print(\"User not found\")"
   ]
  },
  {
   "cell_type": "code",
   "execution_count": 24,
   "metadata": {},
   "outputs": [
    {
     "name": "stdout",
     "output_type": "stream",
     "text": [
      "Libro\n",
      "  vendedor\n",
      "  titulo\n",
      "  precio\n",
      "Microfono\n",
      "  vendedor\n",
      "  modelo\n",
      "  precio\n"
     ]
    }
   ],
   "source": [
    "for k in main_dict[\"productos\"]:\n",
    "    print(f\"{k}\")\n",
    "    for v in main_dict[\"productos\"][k]:\n",
    "        print(f\"  {v}\")"
   ]
  },
  {
   "cell_type": "code",
   "execution_count": null,
   "metadata": {},
   "outputs": [],
   "source": [
    "# Generar un diccionario\n",
    "# Tener usuario por default ya en diccionario - ustedes\n",
    "# darle al usuario 4 opciones\n",
    "#    opcion a - agregar usuario a dict\n",
    "#    opcion b - editar usaurio en dict\n",
    "#    opcion c - eliminar usuario en dict\n",
    "#    ocion d - salir de app\n",
    "#    else meter opcion de menu"
   ]
  },
  {
   "cell_type": "markdown",
   "metadata": {},
   "source": []
  }
 ],
 "metadata": {
  "kernelspec": {
   "display_name": "Python 3",
   "language": "python",
   "name": "python3"
  },
  "language_info": {
   "codemirror_mode": {
    "name": "ipython",
    "version": 3
   },
   "file_extension": ".py",
   "mimetype": "text/x-python",
   "name": "python",
   "nbconvert_exporter": "python",
   "pygments_lexer": "ipython3",
   "version": "3.11.2"
  },
  "orig_nbformat": 4,
  "vscode": {
   "interpreter": {
    "hash": "5779294b255e944f23d4c4cb90ad21e8828fe6e82af371af2cc7fb049de5d87f"
   }
  }
 },
 "nbformat": 4,
 "nbformat_minor": 2
}
