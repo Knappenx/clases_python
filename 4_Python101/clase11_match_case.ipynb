{
 "cells": [
  {
   "attachments": {},
   "cell_type": "markdown",
   "metadata": {},
   "source": [
    "# Match Case"
   ]
  },
  {
   "cell_type": "code",
   "execution_count": 16,
   "metadata": {},
   "outputs": [
    {
     "name": "stdout",
     "output_type": "stream",
     "text": [
      "\n",
      "Bienvenidos a la aplicacion, nuestras opciones son las siguientes:\n",
      "    a) Sumar dos numeros\n",
      "    b) Restar dos numeros\n",
      "    c) Multiplicar dos numeros\n",
      "    d) Dividir dos numeros \n",
      "    O cualquier otro caracter para salir\n",
      "\n",
      "5 + 8 = 13\n",
      "5 - 8 = -3\n",
      "5 / 8 = 0.625\n",
      "5 x 8 = 40\n",
      "Cerrando aplicacion\n"
     ]
    }
   ],
   "source": [
    "menu = \"\"\"\n",
    "Bienvenidos a la aplicacion, nuestras opciones son las siguientes:\n",
    "    a) Sumar dos numeros\n",
    "    b) Restar dos numeros\n",
    "    c) Multiplicar dos numeros\n",
    "    d) Dividir dos numeros \n",
    "    O cualquier otro caracter para salir\n",
    "\"\"\"\n",
    "print(menu)\n",
    "while True:\n",
    "    seleccion = input(\"A continuacion escriba la letra de la opcion que desea ejecutar >: \")\n",
    "\n",
    "    numero_uno = 5\n",
    "    numero_dos = 8\n",
    "\n",
    "    match seleccion:\n",
    "        case \"a\":\n",
    "            print(f\"{numero_uno} + {numero_dos} = {numero_uno + numero_dos}\")\n",
    "        case \"b\":\n",
    "            print(f\"{numero_uno} - {numero_dos} = {numero_uno - numero_dos}\")\n",
    "        case \"c\":\n",
    "            print(f\"{numero_uno} x {numero_dos} = {numero_uno * numero_dos}\")\n",
    "        case \"d\":\n",
    "            print(f\"{numero_uno} / {numero_dos} = {numero_uno / numero_dos}\")\n",
    "        case _:\n",
    "            # Caso default\n",
    "            print(\"Cerrando aplicacion\")\n",
    "            break\n",
    "    "
   ]
  },
  {
   "cell_type": "code",
   "execution_count": 17,
   "metadata": {},
   "outputs": [
    {
     "name": "stdout",
     "output_type": "stream",
     "text": [
      "Nombre de usuario pedrito no es valido\n",
      "Nombre de usuario pich no es valido\n",
      "Bienvenido Alejandro\n",
      "Nombre de usuario  no es valido\n",
      "Usuario admin, tienes todos los privilegios\n",
      "Usuario super_user, tienes todos los privilegios\n",
      "Nombre de usuario  no es valido\n",
      "Saliendo de la app\n"
     ]
    }
   ],
   "source": [
    "while True:\n",
    "    seleccion = input(\"Ingrese su nombre de usuario o escriba exit para salir>: \")\n",
    "\n",
    "    empleados = [\"milton\", \"alejandro\", \"nahim\"]\n",
    "\n",
    "    match seleccion:\n",
    "        case \"admin\" | \"super_user\":\n",
    "            print(f\"Usuario {seleccion}, tienes todos los privilegios\")\n",
    "        case seleccion if seleccion in empleados:\n",
    "            print(f\"Bienvenido {seleccion.capitalize()}\")\n",
    "        case \"exit\":\n",
    "            print(\"Saliendo de la app\")\n",
    "            break\n",
    "        case _:\n",
    "            print(f\"Nombre de usuario {seleccion} no es valido\")"
   ]
  }
 ],
 "metadata": {
  "kernelspec": {
   "display_name": "Python 3",
   "language": "python",
   "name": "python3"
  },
  "language_info": {
   "codemirror_mode": {
    "name": "ipython",
    "version": 3
   },
   "file_extension": ".py",
   "mimetype": "text/x-python",
   "name": "python",
   "nbconvert_exporter": "python",
   "pygments_lexer": "ipython3",
   "version": "3.11.2"
  },
  "orig_nbformat": 4
 },
 "nbformat": 4,
 "nbformat_minor": 2
}
