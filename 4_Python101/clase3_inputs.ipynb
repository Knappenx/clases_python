{
 "cells": [
  {
   "cell_type": "markdown",
   "metadata": {},
   "source": [
    "# Inputs\n",
    "\n",
    "Ahora veremos como ingresar información a la computadora y como resolver algunos problemas que podemos llegar a tener al hacerlo por como Python maneja esta información.\n",
    "\n",
    "Como vimos al inicio del curso, podemos introducir información a la computadora usando el comando de `input`. El ejemplo que vimos fue el siguiente:"
   ]
  },
  {
   "cell_type": "code",
   "execution_count": 3,
   "metadata": {},
   "outputs": [
    {
     "name": "stdout",
     "output_type": "stream",
     "text": [
      "Bienvenido \n",
      "Nahim\n"
     ]
    }
   ],
   "source": [
    "nombre = input(\"Introduce tu nombre de usuario: \")\n",
    "print(\"Bienvenido \")\n",
    "print(nombre)"
   ]
  },
  {
   "cell_type": "markdown",
   "metadata": {},
   "source": [
    "Entendamos el proceso de registro de información...\n",
    "Primero estamos definiendo una variable, en este caso `nombre`. Esta variable almacenará toda la información que introduzcamos antes de presionar `Enter`. Si no lo asignamos a una variable se pierde esa información."
   ]
  },
  {
   "cell_type": "code",
   "execution_count": 6,
   "metadata": {},
   "outputs": [
    {
     "data": {
      "text/plain": [
       "'35'"
      ]
     },
     "execution_count": 6,
     "metadata": {},
     "output_type": "execute_result"
    }
   ],
   "source": [
    "input(\"Introduce un valor: \")"
   ]
  },
  {
   "cell_type": "markdown",
   "metadata": {},
   "source": [
    "Después tenemos la función como tal `input`, la cual la llamamos y abrimos y cerramos paréntesis. Si no ponemos los paréntesis la consola no nos pedirá introducir información aunque tampoco marcará errores."
   ]
  },
  {
   "cell_type": "code",
   "execution_count": 5,
   "metadata": {},
   "outputs": [
    {
     "name": "stdout",
     "output_type": "stream",
     "text": [
      "<bound method Kernel.raw_input of <ipykernel.ipkernel.IPythonKernel object at 0x0000016BBEA1A348>>\n"
     ]
    }
   ],
   "source": [
    "x = input\n",
    "print(x)"
   ]
  },
  {
   "cell_type": "markdown",
   "metadata": {},
   "source": [
    "Por último, dentro de los paréntesis pondremos un texto que haga referencia a lo que esperamos que el usuario introduzca. Si queremos su nombre, un texto que diga `Introduce tu nombre` será más que suficiente."
   ]
  },
  {
   "cell_type": "code",
   "execution_count": 7,
   "metadata": {},
   "outputs": [
    {
     "name": "stdout",
     "output_type": "stream",
     "text": [
      "Bienvenido NAhim\n"
     ]
    }
   ],
   "source": [
    "nombre = input(\"Introduce tu nombre de usuario: \")\n",
    "print(f\"Bienvenido {nombre}\")"
   ]
  },
  {
   "cell_type": "markdown",
   "metadata": {},
   "source": [
    "**Importante**: Todos nuestros `inputs` siempre son almacenados como `string`. Hay que tener en cuenta hacer cambios de tipos de datos, ya sea a la hora de capturarlo o cuando vayamos a utilizar nustra variable."
   ]
  },
  {
   "cell_type": "code",
   "execution_count": 8,
   "metadata": {},
   "outputs": [
    {
     "name": "stdout",
     "output_type": "stream",
     "text": [
      "35 <class 'str'>\n"
     ]
    }
   ],
   "source": [
    "number = input(\"Introduce tu edad: \")\n",
    "print(number, type(number))"
   ]
  },
  {
   "cell_type": "code",
   "execution_count": 9,
   "metadata": {},
   "outputs": [
    {
     "ename": "TypeError",
     "evalue": "can only concatenate str (not \"int\") to str",
     "output_type": "error",
     "traceback": [
      "\u001b[1;31m---------------------------------------------------------------------------\u001b[0m",
      "\u001b[1;31mTypeError\u001b[0m                                 Traceback (most recent call last)",
      "\u001b[1;32m~\\AppData\\Local\\Temp\\ipykernel_17792\\1360981066.py\u001b[0m in \u001b[0;36m<module>\u001b[1;34m\u001b[0m\n\u001b[1;32m----> 1\u001b[1;33m \u001b[0msuma\u001b[0m \u001b[1;33m=\u001b[0m \u001b[0mnumber\u001b[0m \u001b[1;33m+\u001b[0m \u001b[1;36m8\u001b[0m\u001b[1;33m\u001b[0m\u001b[1;33m\u001b[0m\u001b[0m\n\u001b[0m\u001b[0;32m      2\u001b[0m \u001b[0mprint\u001b[0m\u001b[1;33m(\u001b[0m\u001b[0msuma\u001b[0m\u001b[1;33m)\u001b[0m\u001b[1;33m\u001b[0m\u001b[1;33m\u001b[0m\u001b[0m\n",
      "\u001b[1;31mTypeError\u001b[0m: can only concatenate str (not \"int\") to str"
     ]
    }
   ],
   "source": [
    "suma = number + 8\n",
    "print(suma)"
   ]
  },
  {
   "cell_type": "code",
   "execution_count": 12,
   "metadata": {},
   "outputs": [
    {
     "name": "stdout",
     "output_type": "stream",
     "text": [
      "35 <class 'int'>\n"
     ]
    }
   ],
   "source": [
    "str_to_int = int(number)\n",
    "print(str_to_int, type(str_to_int))"
   ]
  },
  {
   "cell_type": "code",
   "execution_count": 13,
   "metadata": {},
   "outputs": [
    {
     "name": "stdout",
     "output_type": "stream",
     "text": [
      "La var num 33 es de tipo <class 'int'>\n"
     ]
    }
   ],
   "source": [
    "num = int(input(\"Introduce un numero: \"))\n",
    "print(f\"La var num {num} es de tipo {type(num)}\")"
   ]
  },
  {
   "cell_type": "markdown",
   "metadata": {},
   "source": [
    "Hagamos un pequeño ejemplo donde el usuario introduzca dos números y estos se sumen entre ellos.\n",
    "En este ejemplo se espera lo siguiente:\n",
    "  - Primero imprimir un mensaje de que hace la aplicación\n",
    "  - Después pedirle al usuario introducir el primer número\n",
    "  - Luego de que introduzca el primer número, solicitarle introducir el segundo número.\n",
    "  - Sumar los dos números\n",
    "  - Por último imprimir el resultado de estos\n",
    "\n",
    "5-10 min para hacerlo\n",
    "\n",
    "\n",
    "La suma de dos números en Python se ve de la siguiente manera:"
   ]
  },
  {
   "cell_type": "code",
   "execution_count": null,
   "metadata": {},
   "outputs": [],
   "source": [
    "suma = 15 + 10\n",
    "print(suma)"
   ]
  },
  {
   "cell_type": "code",
   "execution_count": null,
   "metadata": {},
   "outputs": [],
   "source": [
    "# Ejemplo de suma de dos números dados por el usuario"
   ]
  }
 ],
 "metadata": {
  "kernelspec": {
   "display_name": "Python 3.7.8 64-bit",
   "language": "python",
   "name": "python3"
  },
  "language_info": {
   "codemirror_mode": {
    "name": "ipython",
    "version": 3
   },
   "file_extension": ".py",
   "mimetype": "text/x-python",
   "name": "python",
   "nbconvert_exporter": "python",
   "pygments_lexer": "ipython3",
   "version": "3.7.8"
  },
  "orig_nbformat": 4,
  "vscode": {
   "interpreter": {
    "hash": "0a54084e6b208ee8d1ce3989ffc20924477a5f55f5a43e22e699a6741623861e"
   }
  }
 },
 "nbformat": 4,
 "nbformat_minor": 2
}
