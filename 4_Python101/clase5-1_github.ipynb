{
 "cells": [
  {
   "cell_type": "markdown",
   "metadata": {},
   "source": [
    "# Introducción a Git\n",
    "\n",
    "Git es un software para controlar versiones de código. Esto es bastante útil cuando trabajamos en un mismo archivo que va sufriendo cambios constantemente. Normalmente controlamos versiones funcionales, esto nos ayuda a regresar a versiones anteriores si alguno de los cambios nuevos causa algún tipo de problema.\n",
    "\n",
    "Veremos Git usando una de las plataformas más conocidas, GitHub.\n",
    "\n",
    "Realizaremos los siguientes pasos:\n",
    "  - Crear cuenta\n",
    "  - Crear repositorio\n",
    "  - Subir código para controlar\n",
    "\n",
    "Ir a [https://github.com/](https://github.com/)"
   ]
  }
 ],
 "metadata": {
  "kernelspec": {
   "display_name": "Python 3",
   "language": "python",
   "name": "python3"
  },
  "language_info": {
   "name": "python",
   "version": "3.9.6"
  },
  "orig_nbformat": 4,
  "vscode": {
   "interpreter": {
    "hash": "5779294b255e944f23d4c4cb90ad21e8828fe6e82af371af2cc7fb049de5d87f"
   }
  }
 },
 "nbformat": 4,
 "nbformat_minor": 2
}
