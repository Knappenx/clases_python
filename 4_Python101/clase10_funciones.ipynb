{
 "cells": [
  {
   "attachments": {},
   "cell_type": "markdown",
   "metadata": {},
   "source": [
    "# Funciones\n",
    "\n",
    "Las funciones nos ayudan a agrupar bloques de codigo repetitivos para no duplicar codigo y tener una mejor estructura de codigo.\n",
    "\n",
    "Las funciones pueden simplemente ejecutar una accion; pueden recibir valores o variables mejor conocidos como `parametros`, para poder usar esos datos en su ejecucion; pueden regresar algun valor o valores."
   ]
  },
  {
   "attachments": {},
   "cell_type": "markdown",
   "metadata": {},
   "source": [
    "## Funcion de ejecucion"
   ]
  },
  {
   "cell_type": "code",
   "execution_count": 4,
   "metadata": {},
   "outputs": [
    {
     "name": "stdout",
     "output_type": "stream",
     "text": [
      "Bienvenido a nuestra app\n",
      "------------------------\n",
      "Bienvenido a nuestra app\n",
      "------------------------\n",
      "Bienvenido a nuestra app\n",
      "------------------------\n"
     ]
    }
   ],
   "source": [
    "def print_welcome_message():\n",
    "    print(\"Bienvenido a nuestra app\")\n",
    "    print(\"------------------------\")\n",
    "\n",
    "print_welcome_message()\n",
    "print_welcome_message()\n",
    "print_welcome_message()"
   ]
  },
  {
   "attachments": {},
   "cell_type": "markdown",
   "metadata": {},
   "source": [
    "## Funcion que recibe un parametro"
   ]
  },
  {
   "cell_type": "code",
   "execution_count": 6,
   "metadata": {},
   "outputs": [
    {
     "name": "stdout",
     "output_type": "stream",
     "text": [
      "Bienvenido Bruno a nuestra app\n",
      "------------------------\n",
      "Bienvenido Nahim a nuestra app\n",
      "------------------------\n",
      "Bienvenido Milton a nuestra app\n",
      "------------------------\n",
      "Bienvenido Pich a nuestra app\n",
      "------------------------\n"
     ]
    }
   ],
   "source": [
    "def print_welcome_message(name):\n",
    "    print(f\"Bienvenido {name} a nuestra app\")\n",
    "    print(\"------------------------\")\n",
    "\n",
    "print_welcome_message(\"Bruno\")\n",
    "user1_name = \"Nahim\"\n",
    "print_welcome_message(user1_name)\n",
    "user2_name = \"Milton\"\n",
    "print_welcome_message(user2_name)\n",
    "user3_name = \"Pich\"\n",
    "print_welcome_message(user3_name)"
   ]
  },
  {
   "cell_type": "code",
   "execution_count": 7,
   "metadata": {},
   "outputs": [
    {
     "name": "stdout",
     "output_type": "stream",
     "text": [
      "21\n"
     ]
    }
   ],
   "source": [
    "def suma_de_dos_nums(num1, num2):\n",
    "    suma = num1 + num2\n",
    "    print(suma)\n",
    "\n",
    "number_1 = 8\n",
    "number_2 = 13\n",
    "\n",
    "suma_de_dos_nums(number_1, number_2)"
   ]
  },
  {
   "cell_type": "code",
   "execution_count": 16,
   "metadata": {},
   "outputs": [
    {
     "name": "stdout",
     "output_type": "stream",
     "text": [
      "True\n",
      "Welcome pedrito\n"
     ]
    }
   ],
   "source": [
    "def login(user, password):\n",
    "    login_success = None\n",
    "    if user == \"pedrito\" and password == \"1234\":\n",
    "        login_success = True\n",
    "    else:\n",
    "        login_success = False\n",
    "    return login_success\n",
    "\n",
    "\n",
    "login_user = \"pedrito\"\n",
    "login_pass = \"1234\"\n",
    "login_validation = login(login_user, login_pass)\n",
    "\n",
    "print(login_validation)\n",
    "\n",
    "if login_validation:\n",
    "    print(f\"Welcome {login_user}\")\n",
    "else:\n",
    "    print(\"Wrong credentials\")"
   ]
  },
  {
   "cell_type": "code",
   "execution_count": 25,
   "metadata": {},
   "outputs": [
    {
     "name": "stdout",
     "output_type": "stream",
     "text": [
      "('PS5', 'PC')\n",
      "<class 'tuple'>\n",
      "Valor1 PS5 ... Valor2 PC\n",
      "PS5\n",
      "<class 'str'>\n",
      "PC\n",
      "<class 'str'>\n",
      "Manzana\n",
      "<class 'str'>\n",
      "Sandia\n",
      "<class 'str'>\n",
      "PS5 Gameboy\n"
     ]
    }
   ],
   "source": [
    "def get_first_and_last_from_list(item_list):\n",
    "    new_list = item_list[::]\n",
    "    prim_item = new_list[0]\n",
    "    new_list.reverse()\n",
    "    last_item = new_list[0]\n",
    "    \n",
    "    #prim_item = item_list[0]\n",
    "    #last_item = item_list[-1]\n",
    "    \n",
    "    #prim_item = item_list[0]\n",
    "    #item_list.reverse()\n",
    "    #last_item = item_list[0]\n",
    "    return prim_item, last_item\n",
    "\n",
    "\n",
    "lista = [\"PS5\", \"Xbox\", \"Switch\", \"PC\"]\n",
    "lista_frutas = [\"Manzana\", \"Mango\", \"Fresa\", \"Pera\", \"Sandia\"]\n",
    "\n",
    "result = get_first_and_last_from_list(lista)\n",
    "\n",
    "print(result)\n",
    "print(type(result))\n",
    "print(f\"Valor1 {result[0]} ... Valor2 {result[1]}\")\n",
    "\n",
    "value1, value2 = get_first_and_last_from_list(lista)\n",
    "print(value1)\n",
    "print(type(value1))\n",
    "print(value2)\n",
    "print(type(value2))\n",
    "\n",
    "fruta1, fruta2 = get_first_and_last_from_list(lista_frutas)\n",
    "print(fruta1)\n",
    "print(type(fruta1))\n",
    "print(fruta2)\n",
    "print(type(fruta2))\n",
    "\n",
    "lista.append(\"Gameboy\")\n",
    "\n",
    "var1, var2 = get_first_and_last_from_list(lista)\n",
    "print(var1, var2)\n",
    "\n"
   ]
  },
  {
   "cell_type": "code",
   "execution_count": 38,
   "metadata": {},
   "outputs": [
    {
     "name": "stdout",
     "output_type": "stream",
     "text": [
      "('AVENIDA 1', 76800, 'FEDEX', 'CANADA')\n"
     ]
    }
   ],
   "source": [
    "def carrier_delivery_data(address, postal_code, carrier=\"Fedex\", country=\"Mex\"):\n",
    "    upper_address = address.upper()\n",
    "    int_postal_code = int(postal_code)\n",
    "    upper_carrier = carrier.upper()\n",
    "    upper_country = country.upper()\n",
    "    return upper_address, int_postal_code, upper_carrier, upper_country\n",
    "\n",
    "\n",
    "result = carrier_delivery_data(\"Avenida 1\", \"76800\", country=\"Canada\")\n",
    "print(result)"
   ]
  },
  {
   "cell_type": "code",
   "execution_count": 44,
   "metadata": {},
   "outputs": [
    {
     "name": "stdout",
     "output_type": "stream",
     "text": [
      "<class 'tuple'>\n",
      "0\n"
     ]
    }
   ],
   "source": [
    "def suma_de_varios_nums(operacion, *args):\n",
    "    suma = 0\n",
    "    print(type(args))\n",
    "    if operacion == \"+\":\n",
    "        for item in args:\n",
    "            suma += item\n",
    "        print(suma)\n",
    "    elif operacion == \"-\":\n",
    "        for item in args:\n",
    "            suma -= item\n",
    "        print(suma)\n",
    "    else:\n",
    "        print(\"Not valid\")\n",
    "\n",
    "suma_de_varios_nums(\"+\",1,2,3,4,5,6,7,8)\n"
   ]
  },
  {
   "cell_type": "code",
   "execution_count": 47,
   "metadata": {},
   "outputs": [
    {
     "name": "stdout",
     "output_type": "stream",
     "text": [
      "dogs {'name': 'Bruno', 'raza': 'Pug'}\n"
     ]
    }
   ],
   "source": [
    "def agregar_items(animal, **kwargs):\n",
    "    print(animal, kwargs)\n",
    "\n",
    "agregar_items(\"dogs\", name=\"Bruno\", raza=\"Pug\")"
   ]
  },
  {
   "attachments": {},
   "cell_type": "markdown",
   "metadata": {},
   "source": [
    "## Typing"
   ]
  },
  {
   "cell_type": "code",
   "execution_count": 49,
   "metadata": {},
   "outputs": [
    {
     "name": "stdout",
     "output_type": "stream",
     "text": [
      "ab\n"
     ]
    }
   ],
   "source": [
    "def suma_de_dos_nums(num1:int, num2:int):\n",
    "    suma = num1 + num2\n",
    "    print(suma)\n",
    "\n",
    "\n",
    "suma_de_dos_nums(4,3)"
   ]
  },
  {
   "attachments": {},
   "cell_type": "markdown",
   "metadata": {},
   "source": [
    "## Definir valor que retorna"
   ]
  },
  {
   "cell_type": "code",
   "execution_count": 54,
   "metadata": {},
   "outputs": [
    {
     "name": "stdout",
     "output_type": "stream",
     "text": [
      "6\n"
     ]
    }
   ],
   "source": [
    "def suma_de_dos_nums(num1:int, num2:int) -> int:\n",
    "    suma = num1 + num2\n",
    "    return int(suma)\n",
    "\n",
    "\n",
    "sumando = suma_de_dos_nums(1,5)\n",
    "print(sumando)"
   ]
  },
  {
   "attachments": {},
   "cell_type": "markdown",
   "metadata": {},
   "source": [
    "## Docstring"
   ]
  },
  {
   "cell_type": "code",
   "execution_count": null,
   "metadata": {},
   "outputs": [],
   "source": [
    "def suma_de_dos_nums(num1:int, num2:int) -> int:\n",
    "    \"\"\"\n",
    "    This function expects two integers numbers and returns the sum of them\n",
    "    \"\"\"\n",
    "    suma = num1 + num2\n",
    "    return int(suma)\n",
    "\n",
    "\n",
    "sumando = suma_de_dos_nums(4,3)\n",
    "print(sumando)"
   ]
  }
 ],
 "metadata": {
  "kernelspec": {
   "display_name": "Python 3",
   "language": "python",
   "name": "python3"
  },
  "language_info": {
   "codemirror_mode": {
    "name": "ipython",
    "version": 3
   },
   "file_extension": ".py",
   "mimetype": "text/x-python",
   "name": "python",
   "nbconvert_exporter": "python",
   "pygments_lexer": "ipython3",
   "version": "3.11.2"
  },
  "orig_nbformat": 4
 },
 "nbformat": 4,
 "nbformat_minor": 2
}
