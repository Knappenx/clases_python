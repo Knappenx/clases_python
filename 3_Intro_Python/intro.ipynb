{
 "cells": [
  {
   "cell_type": "markdown",
   "metadata": {},
   "source": [
    "# Introducción a Python y programación\n",
    "\n",
    "## Historia de Python\n",
    "\n",
    "## Zen\n",
    "\n",
    "## En la industria\n",
    "\n",
    "## Ventajas\n",
    "\n",
    "## Desventajas\n",
    "\n",
    "## Generalidades"
   ]
  },
  {
   "cell_type": "markdown",
   "metadata": {},
   "source": [
    "# Problema a tratar\n",
    "\n",
    "Empresa con registro de clientes, productos y proveedores"
   ]
  }
 ],
 "metadata": {
  "language_info": {
   "name": "python"
  },
  "orig_nbformat": 4
 },
 "nbformat": 4,
 "nbformat_minor": 2
}
