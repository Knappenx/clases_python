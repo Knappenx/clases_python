{
 "cells": [
  {
   "attachments": {},
   "cell_type": "markdown",
   "metadata": {},
   "source": [
    "# Problema a resolver\n",
    "\n",
    "Una empresa de relojes quiere mejorar sus sistema de registro de productos, proveedores y clientes. De momento suelen llevar todos sus registros en Excel, pero varios empleados necesitan acceso al mismo archivo y han tenido problemas donde se pierden o sobreescriben datos.\n",
    "\n",
    "Requerimientos\n",
    "- Registro de datos para usuarios\n",
    "  - Nombre\n",
    "  - Direccion\n",
    "  - Telefono \n",
    "  - Cliente frecuente\n",
    "- Registro de datos para administradores\n",
    "  - No. de empleado\n",
    "  - Nombre\n",
    "  - Edad\n",
    "  - Puesto\n",
    "- Registro de productos\n",
    "  - Reloj de manecillas\n",
    "  - Reloj digital\n",
    "  - Smart Watch  \n",
    "- Base de datos de productos \n",
    "- Base de datos de administradores\n",
    "- Base de datos de usuarios"
   ]
  }
 ],
 "metadata": {
  "kernelspec": {
   "display_name": "Python 3",
   "language": "python",
   "name": "python3"
  },
  "language_info": {
   "name": "python",
   "version": "3.9.6"
  },
  "orig_nbformat": 4,
  "vscode": {
   "interpreter": {
    "hash": "5779294b255e944f23d4c4cb90ad21e8828fe6e82af371af2cc7fb049de5d87f"
   }
  }
 },
 "nbformat": 4,
 "nbformat_minor": 2
}
