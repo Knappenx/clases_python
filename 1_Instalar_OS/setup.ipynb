{
 "cells": [
  {
   "cell_type": "markdown",
   "metadata": {},
   "source": [
    "# 1 Instalación y configuración Linux\n",
    "\n",
    "## Limpiar memoria USB\n",
    "\n",
    "## Descargar Kali Linux\n",
    "\n",
    "## Descargar Rufus\n",
    "\n",
    "## Instalar Kali\n",
    "\n",
    "## Arrancar Kali"
   ]
  },
  {
   "cell_type": "markdown",
   "metadata": {},
   "source": [
    "# 2 Instalación WSL y Windows Terminal\n",
    "\n",
    "## Descargar Terminal\n",
    "\n",
    "## Configuración WSL"
   ]
  },
  {
   "cell_type": "markdown",
   "metadata": {},
   "source": [
    "# 3 Instalación VirtualBox y Linux\n",
    "\n",
    "## Descargar e Instalar VirtualBox\n",
    "\n",
    "## Descargar Ubuntu o Kali\n",
    "\n",
    "## Configurar VM con Linux"
   ]
  }
 ],
 "metadata": {
  "language_info": {
   "name": "python"
  },
  "orig_nbformat": 4
 },
 "nbformat": 4,
 "nbformat_minor": 2
}
